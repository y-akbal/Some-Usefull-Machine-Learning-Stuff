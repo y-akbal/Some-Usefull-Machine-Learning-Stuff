{
 "cells": [
  {
   "cell_type": "markdown",
   "id": "287f5a47",
   "metadata": {},
   "source": [
    "[![Open in Colab](https://colab.research.google.com/assets/colab-badge.svg)](https://colab.research.google.com/github/y-akbal/Some-Usefull-Machine-Learning-Stuff/blob/main/HW/HW1.ipynb)"
   ]
  },
  {
   "cell_type": "code",
   "execution_count": 163,
   "id": "7861f374",
   "metadata": {},
   "outputs": [],
   "source": [
    "import numpy as np\n",
    "from sklearn.datasets import make_regression"
   ]
  },
  {
   "cell_type": "code",
   "execution_count": 183,
   "id": "fe2cdeb9",
   "metadata": {},
   "outputs": [],
   "source": [
    "def return_data_set()->tuple: ### this guy returns a non artifical data set!\n",
    "    X,y = make_regression(10000, 100, n_targets = 10, random_state = 10)\n",
    "    X +=  0.4*np.random.normal(size = X.shape)\n",
    "    y = (y - np.mean(y, axis = 0))/(np.std(y, axis =0))\n",
    "    X = (X - np.mean(X, axis = 0))/(np.std(X, axis =0))\n",
    "    return X, y"
   ]
  },
  {
   "cell_type": "code",
   "execution_count": 184,
   "id": "80e1e84d",
   "metadata": {},
   "outputs": [],
   "source": [
    "X,y = return_data_set()  ### watch out the shapes"
   ]
  },
  {
   "cell_type": "markdown",
   "id": "2a0e99e8",
   "metadata": {},
   "source": [
    "## Things to do:\n",
    "# 1) Split X, y into $X_{train}, X_{test}, y_{train}, y_{test}$,\n",
    "# 2) Your job is to create a MLP to achive $R^2$ value of almost $\\approx 0.84$ on the test set.\n",
    "# 3) Include only dense layers. Feel free to experiment with different sort of activation functions. Compare your results."
   ]
  },
  {
   "cell_type": "code",
   "execution_count": 190,
   "id": "b39e19b6",
   "metadata": {},
   "outputs": [],
   "source": [
    "### Start here!"
   ]
  }
 ],
 "metadata": {
  "kernelspec": {
   "display_name": "Python 3 (ipykernel)",
   "language": "python",
   "name": "python3"
  },
  "language_info": {
   "codemirror_mode": {
    "name": "ipython",
    "version": 3
   },
   "file_extension": ".py",
   "mimetype": "text/x-python",
   "name": "python",
   "nbconvert_exporter": "python",
   "pygments_lexer": "ipython3",
   "version": "3.9.12"
  }
 },
 "nbformat": 4,
 "nbformat_minor": 5
}
