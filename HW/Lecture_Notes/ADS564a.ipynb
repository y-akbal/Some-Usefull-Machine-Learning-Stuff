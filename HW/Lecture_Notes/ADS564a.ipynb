{
 "cells": [
  {
   "cell_type": "code",
   "execution_count": 3,
   "id": "9761847c",
   "metadata": {},
   "outputs": [],
   "source": [
    "import numpy as np"
   ]
  },
  {
   "cell_type": "code",
   "execution_count": 4,
   "id": "11a3f3e9",
   "metadata": {},
   "outputs": [],
   "source": [
    "class coin:\n",
    "    def __init__(self, p:float):\n",
    "        self.p = p ### probability of landing heads\n",
    "    def flip_once(self):\n",
    "        return np.random.choice([\"h\",\"t\"], p = [self.p, 1-self.p])\n",
    "    def flip(self, n_times):\n",
    "        return [self.flip_once() for _ in range(n_times)]"
   ]
  },
  {
   "cell_type": "code",
   "execution_count": 5,
   "id": "aa4bb853",
   "metadata": {},
   "outputs": [],
   "source": [
    "coin_ = coin(0.5) ###fair"
   ]
  },
  {
   "cell_type": "code",
   "execution_count": 6,
   "id": "38a5d250",
   "metadata": {},
   "outputs": [
    {
     "data": {
      "text/plain": [
       "'t'"
      ]
     },
     "execution_count": 6,
     "metadata": {},
     "output_type": "execute_result"
    }
   ],
   "source": [
    "coin_.flip_once()"
   ]
  },
  {
   "cell_type": "code",
   "execution_count": 7,
   "id": "9089eb2c",
   "metadata": {},
   "outputs": [
    {
     "data": {
      "text/plain": [
       "['h', 't', 'h', 't', 'h', 'h', 'h', 't', 't', 'h']"
      ]
     },
     "execution_count": 7,
     "metadata": {},
     "output_type": "execute_result"
    }
   ],
   "source": [
    "coin_.flip(10)"
   ]
  },
  {
   "cell_type": "code",
   "execution_count": 8,
   "id": "5962056b",
   "metadata": {},
   "outputs": [],
   "source": [
    "class Coin(coin):\n",
    "    def __init__(self, p):\n",
    "        super().__init__(p) #### \n",
    "    \n",
    "    \n",
    "    \n",
    "    "
   ]
  },
  {
   "cell_type": "code",
   "execution_count": 10,
   "id": "78b860dc",
   "metadata": {},
   "outputs": [],
   "source": [
    "inherited_coin = Coin(0.2)"
   ]
  },
  {
   "cell_type": "code",
   "execution_count": 11,
   "id": "7334a576",
   "metadata": {},
   "outputs": [
    {
     "data": {
      "text/plain": [
       "['__class__',\n",
       " '__delattr__',\n",
       " '__dict__',\n",
       " '__dir__',\n",
       " '__doc__',\n",
       " '__eq__',\n",
       " '__format__',\n",
       " '__ge__',\n",
       " '__getattribute__',\n",
       " '__gt__',\n",
       " '__hash__',\n",
       " '__init__',\n",
       " '__init_subclass__',\n",
       " '__le__',\n",
       " '__lt__',\n",
       " '__module__',\n",
       " '__ne__',\n",
       " '__new__',\n",
       " '__reduce__',\n",
       " '__reduce_ex__',\n",
       " '__repr__',\n",
       " '__setattr__',\n",
       " '__sizeof__',\n",
       " '__str__',\n",
       " '__subclasshook__',\n",
       " '__weakref__',\n",
       " 'flip',\n",
       " 'flip_once',\n",
       " 'p']"
      ]
     },
     "execution_count": 11,
     "metadata": {},
     "output_type": "execute_result"
    }
   ],
   "source": [
    "dir(inherited_coin)"
   ]
  },
  {
   "cell_type": "code",
   "execution_count": null,
   "id": "d310026c",
   "metadata": {},
   "outputs": [],
   "source": []
  }
 ],
 "metadata": {
  "kernelspec": {
   "display_name": "Python 3 (ipykernel)",
   "language": "python",
   "name": "python3"
  },
  "language_info": {
   "codemirror_mode": {
    "name": "ipython",
    "version": 3
   },
   "file_extension": ".py",
   "mimetype": "text/x-python",
   "name": "python",
   "nbconvert_exporter": "python",
   "pygments_lexer": "ipython3",
   "version": "3.9.12"
  }
 },
 "nbformat": 4,
 "nbformat_minor": 5
}
