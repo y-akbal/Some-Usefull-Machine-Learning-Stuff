{
 "cells": [
  {
   "cell_type": "code",
   "execution_count": 196,
   "id": "78e27737",
   "metadata": {},
   "outputs": [],
   "source": [
    "import tensorflow as tf\n",
    "import numpy as np\n",
    "from tensorflow.keras import backend as K"
   ]
  },
  {
   "cell_type": "code",
   "execution_count": 377,
   "id": "4e6c4518",
   "metadata": {},
   "outputs": [],
   "source": [
    "from tensorflow.keras.models import Model\n",
    "from tensorflow.keras.layers import Dense, Dropout, Flatten, BatchNormalization\n",
    "from tensorflow.keras.models import Sequential\n",
    "from tensorflow.keras.datasets import fashion_mnist\n",
    "from tensorflow.keras.losses import sparse_categorical_crossentropy\n",
    "from tensorflow.keras.callbacks import ModelCheckpoint, ReduceLROnPlateau, CSVLogger, LearningRateScheduler"
   ]
  },
  {
   "cell_type": "code",
   "execution_count": null,
   "id": "9a2997b3",
   "metadata": {},
   "outputs": [],
   "source": []
  },
  {
   "cell_type": "code",
   "execution_count": 62,
   "id": "58a822e9",
   "metadata": {},
   "outputs": [
    {
     "name": "stdout",
     "output_type": "stream",
     "text": [
      "Downloading data from https://storage.googleapis.com/tensorflow/tf-keras-datasets/train-labels-idx1-ubyte.gz\n",
      "29515/29515 [==============================] - 0s 2us/step\n",
      "Downloading data from https://storage.googleapis.com/tensorflow/tf-keras-datasets/train-images-idx3-ubyte.gz\n",
      "26421880/26421880 [==============================] - 8s 0us/step\n",
      "Downloading data from https://storage.googleapis.com/tensorflow/tf-keras-datasets/t10k-labels-idx1-ubyte.gz\n",
      "5148/5148 [==============================] - 0s 0s/step\n",
      "Downloading data from https://storage.googleapis.com/tensorflow/tf-keras-datasets/t10k-images-idx3-ubyte.gz\n",
      "4422102/4422102 [==============================] - 2s 0us/step\n"
     ]
    }
   ],
   "source": [
    "(X_train, y_train), (X_test, y_test) = fashion_mnist.load_data()"
   ]
  },
  {
   "cell_type": "code",
   "execution_count": 64,
   "id": "e5248364",
   "metadata": {},
   "outputs": [],
   "source": [
    "X_train = X_train/255.0\n",
    "X_test = X_test/255.0"
   ]
  },
  {
   "cell_type": "code",
   "execution_count": 345,
   "id": "5c683b2b",
   "metadata": {},
   "outputs": [],
   "source": [
    "init = tf.keras.initializers.RandomNormal(\n",
    "        mean=0.0, stddev=0.005, seed=None\n",
    ")"
   ]
  },
  {
   "cell_type": "code",
   "execution_count": 378,
   "id": "ec50a88a",
   "metadata": {},
   "outputs": [],
   "source": [
    "class layer(Model):\n",
    "    def __init__(self, L:list, final_dim = 10):\n",
    "        super().__init__()\n",
    "        self.dense_ = [Dense(i, activation = \"relu\") for i in L]\n",
    "        self.drop = [Dropout(0.2) for _ in self.dense_]\n",
    "        self.final = Dense(final_dim, \"softmax\", kernel_initializer= init)\n",
    "        self.normalize = [BatchNormalization() for _ in self.dense_]\n",
    "    def call(self, x, train = None):\n",
    "        x = Flatten()(x)\n",
    "        for lay, drop, norm in zip(self.dense_, self.drop, self.normalize):\n",
    "            x = norm(x, train)\n",
    "            x = drop(x, train)\n",
    "            x = lay(x)            \n",
    "        return self.final(x)"
   ]
  },
  {
   "cell_type": "code",
   "execution_count": 435,
   "id": "b426b5ac",
   "metadata": {},
   "outputs": [],
   "source": [
    "tf.keras.utils.set_random_seed(10)\n",
    "model = layer([128, 100, 50, 25], 10)"
   ]
  },
  {
   "cell_type": "code",
   "execution_count": 436,
   "id": "114909ca",
   "metadata": {},
   "outputs": [],
   "source": [
    "def scheduler(epoch, lr):\n",
    "  if epoch < 2:\n",
    "    return lr\n",
    "  else:\n",
    "    return lr * tf.math.exp(-0.1)\n"
   ]
  },
  {
   "cell_type": "code",
   "execution_count": 437,
   "id": "c070aa76",
   "metadata": {},
   "outputs": [],
   "source": [
    "callback = LearningRateScheduler(scheduler) #### Seee the techical word cosine schedule \n",
    "callback_ = CSVLogger(\"log.csv\")"
   ]
  },
  {
   "cell_type": "code",
   "execution_count": 438,
   "id": "49d2e0de",
   "metadata": {},
   "outputs": [],
   "source": [
    "model.compile(optimizer = tf.keras.optimizers.Adam(learning_rate = 0.001), loss = \"sparse_categorical_crossentropy\", metrics = [\"accuracy\"])"
   ]
  },
  {
   "cell_type": "code",
   "execution_count": 439,
   "id": "badab166",
   "metadata": {},
   "outputs": [
    {
     "name": "stdout",
     "output_type": "stream",
     "text": [
      "1875/1875 [==============================] - 16s 8ms/step - loss: 0.6734 - accuracy: 0.7554 - val_loss: 0.4331 - val_accuracy: 0.8450 - lr: 0.0010\n"
     ]
    },
    {
     "data": {
      "text/plain": [
       "<keras.callbacks.History at 0x215c8018790>"
      ]
     },
     "execution_count": 439,
     "metadata": {},
     "output_type": "execute_result"
    }
   ],
   "source": [
    "model.fit(X_train, y_train, batch_size = 32, epochs = 1, validation_data= (X_test, y_test), callbacks = [callback, callback_])"
   ]
  },
  {
   "cell_type": "code",
   "execution_count": null,
   "id": "53bea38a",
   "metadata": {},
   "outputs": [],
   "source": [
    "model(np.random.randn(1,28,28))  ### you need to pass a fake data to load the weights\n",
    "callback = ModelCheckpoint(\"model.hdf5\", save_weights_only = True)\n",
    "model.load_weights(\"model.hdf5\") "
   ]
  },
  {
   "cell_type": "code",
   "execution_count": null,
   "id": "66658f8f",
   "metadata": {},
   "outputs": [],
   "source": []
  },
  {
   "cell_type": "code",
   "execution_count": null,
   "id": "819394f0",
   "metadata": {},
   "outputs": [],
   "source": []
  }
 ],
 "metadata": {
  "kernelspec": {
   "display_name": "Python 3 (ipykernel)",
   "language": "python",
   "name": "python3"
  },
  "language_info": {
   "codemirror_mode": {
    "name": "ipython",
    "version": 3
   },
   "file_extension": ".py",
   "mimetype": "text/x-python",
   "name": "python",
   "nbconvert_exporter": "python",
   "pygments_lexer": "ipython3",
   "version": "3.9.12"
  }
 },
 "nbformat": 4,
 "nbformat_minor": 5
}
