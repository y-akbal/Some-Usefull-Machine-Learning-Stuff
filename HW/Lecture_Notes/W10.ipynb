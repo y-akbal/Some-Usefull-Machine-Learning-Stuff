{
  "nbformat": 4,
  "nbformat_minor": 0,
  "metadata": {
    "colab": {
      "provenance": [],
      "gpuType": "T4"
    },
    "kernelspec": {
      "name": "python3",
      "display_name": "Python 3"
    },
    "language_info": {
      "name": "python"
    },
    "gpuClass": "standard"
  },
  "cells": [
    {
      "cell_type": "code",
      "source": [
        "import tensorflow as tf\n",
        "from tensorflow.keras.layers import Conv2D, MaxPooling2D, Dense, BatchNormalization, Flatten, Dropout, RandomFlip, RandomRotation\n",
        "from tensorflow.keras.layers import Rescaling, Resizing, AveragePooling2D, GlobalAvgPool2D\n",
        "from tensorflow.keras.activations import relu\n",
        "from tensorflow.keras.models import Model, Sequential\n",
        "import numpy as np"
      ],
      "metadata": {
        "id": "39dyWybi_o-B"
      },
      "execution_count": 2,
      "outputs": []
    },
    {
      "cell_type": "code",
      "execution_count": 3,
      "metadata": {
        "id": "JwnAeZwW_UOf"
      },
      "outputs": [],
      "source": [
        "from tensorflow.keras.applications import vgg16, vgg19, mobilenet, mobilenet_v2, mobilenet_v3"
      ]
    },
    {
      "cell_type": "code",
      "source": [
        "model = mobilenet_v2.MobileNetV2(include_top = False, input_shape = (224,224,3))\n",
        "model.trainable = False"
      ],
      "metadata": {
        "id": "R33urt33_b6N"
      },
      "execution_count": 4,
      "outputs": []
    },
    {
      "cell_type": "code",
      "source": [
        "model_ = Sequential([\n",
        "        model,\n",
        "     GlobalAvgPool2D(),\n",
        "    Flatten(),\n",
        "    Dropout(0.8),\n",
        "    Dense(102)\n",
        "])"
      ],
      "metadata": {
        "id": "gWvJ7UlS_e7p"
      },
      "execution_count": 5,
      "outputs": []
    },
    {
      "cell_type": "code",
      "source": [
        "dataset_n = \"oxford_flowers102\"\n",
        "import tensorflow_datasets as tfds\n",
        "\n",
        "# Construct a tf.data.Dataset\n",
        "ds_train, ds_test = tfds.load(dataset_n, split=['train','test'], shuffle_files=True, as_supervised = True)"
      ],
      "metadata": {
        "id": "YMf9EUvf_v1r"
      },
      "execution_count": 6,
      "outputs": []
    },
    {
      "cell_type": "code",
      "source": [
        "def transform(image, label):\n",
        "    image = Resizing(224,224)(image)\n",
        "    image = Rescaling(1/127.5, offset = -1)(image)\n",
        "    return image, label\n",
        "def pipeline(data_set, train = True):\n",
        "    data_set = data_set.map(transform, num_parallel_calls = tf.data.AUTOTUNE)\n",
        "    data_set = data_set.cache()\n",
        "    if train:\n",
        "        data_set = data_set.shuffle(10000)\n",
        "    data_set = data_set.batch(32)\n",
        "    data_set = data_set.prefetch(tf.data.AUTOTUNE)\n",
        "    return data_set   "
      ],
      "metadata": {
        "id": "2THTIilD_2tR"
      },
      "execution_count": 7,
      "outputs": []
    },
    {
      "cell_type": "code",
      "source": [
        "ds_train = pipeline(ds_train)\n",
        "ds_test = pipeline(ds_test, False)"
      ],
      "metadata": {
        "id": "1Ad9_NGM_6Af"
      },
      "execution_count": 8,
      "outputs": []
    },
    {
      "cell_type": "code",
      "source": [
        "model_.compile(optimizer= \"adam\", loss= tf.keras.losses.SparseCategoricalCrossentropy(from_logits = True), metrics = tf.keras.metrics.SparseCategoricalAccuracy())\n",
        "model_.fit(ds_train, epochs = 10, validation_data = ds_test) "
      ],
      "metadata": {
        "colab": {
          "base_uri": "https://localhost:8080/"
        },
        "id": "Ofz2vLdT_8A9",
        "outputId": "9c4fca1b-57a4-4ade-a02e-bd91bb951a14"
      },
      "execution_count": 10,
      "outputs": [
        {
          "output_type": "stream",
          "name": "stdout",
          "text": [
            "Epoch 1/10\n",
            "32/32 [==============================] - 13s 326ms/step - loss: 1.3829 - sparse_categorical_accuracy: 0.6255 - val_loss: 1.2473 - val_sparse_categorical_accuracy: 0.7269\n",
            "Epoch 2/10\n",
            "32/32 [==============================] - 9s 302ms/step - loss: 1.1562 - sparse_categorical_accuracy: 0.6990 - val_loss: 1.1696 - val_sparse_categorical_accuracy: 0.7432\n",
            "Epoch 3/10\n",
            "32/32 [==============================] - 12s 374ms/step - loss: 1.0231 - sparse_categorical_accuracy: 0.7245 - val_loss: 1.1269 - val_sparse_categorical_accuracy: 0.7515\n",
            "Epoch 4/10\n",
            "32/32 [==============================] - 12s 375ms/step - loss: 0.8604 - sparse_categorical_accuracy: 0.7667 - val_loss: 1.0673 - val_sparse_categorical_accuracy: 0.7561\n",
            "Epoch 5/10\n",
            "32/32 [==============================] - 9s 298ms/step - loss: 0.8420 - sparse_categorical_accuracy: 0.7686 - val_loss: 1.0527 - val_sparse_categorical_accuracy: 0.7574\n",
            "Epoch 6/10\n",
            "32/32 [==============================] - 9s 300ms/step - loss: 0.7914 - sparse_categorical_accuracy: 0.7794 - val_loss: 1.0227 - val_sparse_categorical_accuracy: 0.7585\n",
            "Epoch 7/10\n",
            "32/32 [==============================] - 9s 299ms/step - loss: 0.7115 - sparse_categorical_accuracy: 0.8078 - val_loss: 0.9800 - val_sparse_categorical_accuracy: 0.7689\n",
            "Epoch 8/10\n",
            "32/32 [==============================] - 9s 298ms/step - loss: 0.5928 - sparse_categorical_accuracy: 0.8461 - val_loss: 0.9686 - val_sparse_categorical_accuracy: 0.7674\n",
            "Epoch 9/10\n",
            "32/32 [==============================] - 9s 300ms/step - loss: 0.6050 - sparse_categorical_accuracy: 0.8284 - val_loss: 0.9808 - val_sparse_categorical_accuracy: 0.7657\n",
            "Epoch 10/10\n",
            "32/32 [==============================] - 9s 301ms/step - loss: 0.5640 - sparse_categorical_accuracy: 0.8471 - val_loss: 0.9494 - val_sparse_categorical_accuracy: 0.7700\n"
          ]
        },
        {
          "output_type": "execute_result",
          "data": {
            "text/plain": [
              "<keras.callbacks.History at 0x7f9c4ee5e500>"
            ]
          },
          "metadata": {},
          "execution_count": 10
        }
      ]
    },
    {
      "cell_type": "code",
      "source": [
        "y_t_pred =model_.predict()"
      ],
      "metadata": {
        "id": "Lhin5lZeEVxb"
      },
      "execution_count": null,
      "outputs": []
    },
    {
      "cell_type": "markdown",
      "source": [],
      "metadata": {
        "id": "JYaTzB5yBcH_"
      }
    }
  ]
}