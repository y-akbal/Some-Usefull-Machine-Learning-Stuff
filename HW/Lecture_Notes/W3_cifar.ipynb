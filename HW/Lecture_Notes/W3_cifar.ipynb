{
 "cells": [
  {
   "cell_type": "code",
   "execution_count": null,
   "id": "3f7be173",
   "metadata": {},
   "outputs": [],
   "source": [
    "import tensorflow as tf\n",
    "from matplotlib import pyplot as plt\n",
    "import numpy as np\n",
    "import tensorflow.keras.backend as K\n"
   ]
  },
  {
   "cell_type": "code",
   "execution_count": 8,
   "id": "2d616a6d",
   "metadata": {},
   "outputs": [],
   "source": [
    "from tensorflow.keras.datasets import cifar10, cifar100"
   ]
  },
  {
   "cell_type": "code",
   "execution_count": 9,
   "id": "81b2ad12",
   "metadata": {},
   "outputs": [],
   "source": [
    "(X_train, y_train), (X_test, y_test) = cifar10.load_data()"
   ]
  },
  {
   "cell_type": "code",
   "execution_count": 14,
   "id": "2c29864e",
   "metadata": {},
   "outputs": [
    {
     "data": {
      "text/plain": [
       "<matplotlib.image.AxesImage at 0x1afe8244580>"
      ]
     },
     "execution_count": 14,
     "metadata": {},
     "output_type": "execute_result"
    },
    {
     "data": {
      "image/png": "[encoded data removed]",
      "text/plain": [
       "<Figure size 432x288 with 1 Axes>"
      ]
     },
     "metadata": {
      "needs_background": "light"
     },
     "output_type": "display_data"
    }
   ],
   "source": [
    "plt.imshow(X_train[100])"
   ]
  },
  {
   "cell_type": "code",
   "execution_count": 19,
   "id": "30dcb8a2",
   "metadata": {},
   "outputs": [],
   "source": [
    "X_train = X_train/255.0\n",
    "X_test = X_test/255.0"
   ]
  },
  {
   "cell_type": "code",
   "execution_count": 70,
   "id": "53b4ae57",
   "metadata": {},
   "outputs": [],
   "source": [
    "from tensorflow.keras.layers import Dense, Flatten, Dropout, Input\n",
    "from tensorflow.keras.activations import softmax, relu\n",
    "from tensorflow.keras.optimizers import RMSprop\n",
    "from tensorflow.keras.models import Sequential, Model  ### Model is used for functional api\n",
    "from tensorflow.keras.initializers import random_normal"
   ]
  },
  {
   "cell_type": "code",
   "execution_count": null,
   "id": "9839785d",
   "metadata": {},
   "outputs": [],
   "source": [
    "from tensorflow.keras.losses import SparseCategoricalCrossentropy, sparse_categorical_crossentropy, categorical_crossentropy\n",
    "from tensorflow.keras.metrics import Accuracy, Recall, FalsePositives, FalseNegatives"
   ]
  },
  {
   "cell_type": "code",
   "execution_count": 117,
   "id": "0aa6786e",
   "metadata": {},
   "outputs": [],
   "source": [
    "\n",
    "I = Input(shape = (32,32,3))\n",
    "f = Flatten()(I)\n",
    "y = Dense(100, \"relu\")(f)\n",
    "x = Dropout(0.2)(y)\n",
    "x = Dense(150, \"relu\")(x)\n",
    "x = Dropout(0.2)(x)\n",
    "x = Dense(100, \"relu\")(x)\n",
    "x += y\n",
    "x = Dense(10, \"softmax\", kernel_initializer= random_normal(mean = 0.0, stddev = 0.0001))(x) ####the initialization is importantt!!!!!!!!!\n",
    "model = Model(I, x)"
   ]
  },
  {
   "cell_type": "code",
   "execution_count": 114,
   "id": "dc2b7a9e",
   "metadata": {},
   "outputs": [
    {
     "name": "stdout",
     "output_type": "stream",
     "text": [
      "313/313 [==============================] - 1s 3ms/step\n"
     ]
    },
    {
     "data": {
      "text/plain": [
       "0.1"
      ]
     },
     "execution_count": 114,
     "metadata": {},
     "output_type": "execute_result"
    }
   ],
   "source": [
    "np.mean(tf.argmax(model.predict(X_test), axis = 1).numpy() == y_test)"
   ]
  },
  {
   "cell_type": "code",
   "execution_count": 121,
   "id": "71e67270",
   "metadata": {},
   "outputs": [
    {
     "data": {
      "text/plain": [
       "0.6931472"
      ]
     },
     "execution_count": 121,
     "metadata": {},
     "output_type": "execute_result"
    }
   ],
   "source": [
    "tf.math.log(2.0).numpy()  #### this a good starting loss"
   ]
  },
  {
   "cell_type": "code",
   "execution_count": 118,
   "id": "64739510",
   "metadata": {},
   "outputs": [
    {
     "name": "stdout",
     "output_type": "stream",
     "text": [
      "313/313 [==============================] - 1s 3ms/step\n"
     ]
    },
    {
     "data": {
      "text/plain": [
       "<tf.Tensor: shape=(), dtype=float32, numpy=2.302562>"
      ]
     },
     "execution_count": 118,
     "metadata": {},
     "output_type": "execute_result"
    }
   ],
   "source": [
    "SparseCategoricalCrossentropy()(y_test, model.predict(X_test))"
   ]
  },
  {
   "cell_type": "code",
   "execution_count": 123,
   "id": "0a9c96c7",
   "metadata": {},
   "outputs": [],
   "source": [
    "model.compile(optimizer = RMSprop(), loss = sparse_categorical_crossentropy, metrics = [\"accuracy\"])"
   ]
  },
  {
   "cell_type": "code",
   "execution_count": 124,
   "id": "9d6b5d49",
   "metadata": {},
   "outputs": [
    {
     "name": "stdout",
     "output_type": "stream",
     "text": [
      "Epoch 1/20\n",
      "782/782 [==============================] - 13s 14ms/step - loss: 1.9447 - accuracy: 0.2848 - val_loss: 1.9666 - val_accuracy: 0.3007\n",
      "Epoch 2/20\n",
      "782/782 [==============================] - 8s 10ms/step - loss: 1.7640 - accuracy: 0.3616 - val_loss: 1.7417 - val_accuracy: 0.3685\n",
      "Epoch 3/20\n",
      "782/782 [==============================] - 8s 10ms/step - loss: 1.6979 - accuracy: 0.3917 - val_loss: 1.6924 - val_accuracy: 0.3830\n",
      "Epoch 4/20\n",
      "782/782 [==============================] - 10s 12ms/step - loss: 1.6601 - accuracy: 0.4047 - val_loss: 1.6576 - val_accuracy: 0.4077\n",
      "Epoch 5/20\n",
      "782/782 [==============================] - 9s 11ms/step - loss: 1.6279 - accuracy: 0.4165 - val_loss: 1.6236 - val_accuracy: 0.4145\n",
      "Epoch 6/20\n",
      "782/782 [==============================] - 10s 13ms/step - loss: 1.6108 - accuracy: 0.4240 - val_loss: 1.7289 - val_accuracy: 0.3950\n",
      "Epoch 7/20\n",
      "782/782 [==============================] - 9s 12ms/step - loss: 1.5917 - accuracy: 0.4303 - val_loss: 1.6087 - val_accuracy: 0.4170\n",
      "Epoch 8/20\n",
      "782/782 [==============================] - 11s 14ms/step - loss: 1.5739 - accuracy: 0.4372 - val_loss: 1.6339 - val_accuracy: 0.4117\n",
      "Epoch 9/20\n",
      "782/782 [==============================] - 12s 16ms/step - loss: 1.5652 - accuracy: 0.4407 - val_loss: 1.6385 - val_accuracy: 0.4097\n",
      "Epoch 10/20\n",
      "782/782 [==============================] - 16s 20ms/step - loss: 1.5533 - accuracy: 0.4420 - val_loss: 1.7422 - val_accuracy: 0.3842\n",
      "Epoch 11/20\n",
      "782/782 [==============================] - 10s 13ms/step - loss: 1.5450 - accuracy: 0.4471 - val_loss: 1.6581 - val_accuracy: 0.4060\n",
      "Epoch 12/20\n",
      "782/782 [==============================] - 10s 13ms/step - loss: 1.5385 - accuracy: 0.4494 - val_loss: 1.5435 - val_accuracy: 0.4491\n",
      "Epoch 13/20\n",
      "782/782 [==============================] - 10s 12ms/step - loss: 1.5284 - accuracy: 0.4568 - val_loss: 1.6561 - val_accuracy: 0.4013\n",
      "Epoch 14/20\n",
      "782/782 [==============================] - 6s 8ms/step - loss: 1.5230 - accuracy: 0.4562 - val_loss: 1.7330 - val_accuracy: 0.3835\n",
      "Epoch 15/20\n",
      "782/782 [==============================] - 6s 8ms/step - loss: 1.5164 - accuracy: 0.4578 - val_loss: 1.5451 - val_accuracy: 0.4522\n",
      "Epoch 16/20\n",
      "782/782 [==============================] - 6s 8ms/step - loss: 1.5153 - accuracy: 0.4572 - val_loss: 1.6166 - val_accuracy: 0.4136\n",
      "Epoch 17/20\n",
      "782/782 [==============================] - 8s 10ms/step - loss: 1.5072 - accuracy: 0.4641 - val_loss: 1.7185 - val_accuracy: 0.4014\n",
      "Epoch 18/20\n",
      "782/782 [==============================] - 14s 17ms/step - loss: 1.5041 - accuracy: 0.4627 - val_loss: 1.5654 - val_accuracy: 0.4518\n",
      "Epoch 19/20\n",
      "782/782 [==============================] - 12s 15ms/step - loss: 1.4999 - accuracy: 0.4671 - val_loss: 1.6190 - val_accuracy: 0.4447\n",
      "Epoch 20/20\n",
      "782/782 [==============================] - 10s 12ms/step - loss: 1.4925 - accuracy: 0.4661 - val_loss: 1.8436 - val_accuracy: 0.3751\n"
     ]
    },
    {
     "data": {
      "text/plain": [
       "<keras.callbacks.History at 0x1af8607cbb0>"
      ]
     },
     "execution_count": 124,
     "metadata": {},
     "output_type": "execute_result"
    }
   ],
   "source": [
    "model.fit(X_train, y_train,  batch_size = 64, epochs = 20, validation_data=(X_test, y_test))"
   ]
  }
 ],
 "metadata": {
  "kernelspec": {
   "display_name": "Python 3 (ipykernel)",
   "language": "python",
   "name": "python3"
  },
  "language_info": {
   "codemirror_mode": {
    "name": "ipython",
    "version": 3
   },
   "file_extension": ".py",
   "mimetype": "text/x-python",
   "name": "python",
   "nbconvert_exporter": "python",
   "pygments_lexer": "ipython3",
   "version": "3.9.12"
  }
 },
 "nbformat": 4,
 "nbformat_minor": 5
}
