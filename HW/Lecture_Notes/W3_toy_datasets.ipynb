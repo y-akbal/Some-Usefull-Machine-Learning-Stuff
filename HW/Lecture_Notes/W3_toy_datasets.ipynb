{
 "cells": [
  {
   "cell_type": "code",
   "execution_count": 37,
   "id": "042d57ff",
   "metadata": {},
   "outputs": [],
   "source": [
    "import tensorflow as tf\n",
    "from matplotlib import pyplot as plt\n",
    "import numpy as np\n",
    "import tensorflow.keras.backend as K"
   ]
  },
  {
   "cell_type": "code",
   "execution_count": 5,
   "id": "19441b4d",
   "metadata": {},
   "outputs": [],
   "source": [
    "from tensorflow.keras.datasets import mnist"
   ]
  },
  {
   "cell_type": "code",
   "execution_count": 116,
   "id": "ebd9ece0",
   "metadata": {},
   "outputs": [],
   "source": [
    "(X_train, y_train), (X_test, y_test) = mnist.load_data()"
   ]
  },
  {
   "cell_type": "code",
   "execution_count": 117,
   "id": "818a7fb4",
   "metadata": {},
   "outputs": [
    {
     "data": {
      "text/plain": [
       "<matplotlib.image.AxesImage at 0x1e79b3c9730>"
      ]
     },
     "execution_count": 117,
     "metadata": {},
     "output_type": "execute_result"
    },
    {
     "data": {
      "image/png": "[encoded data removed]",
      "text/plain": [
       "<Figure size 432x288 with 1 Axes>"
      ]
     },
     "metadata": {
      "needs_background": "light"
     },
     "output_type": "display_data"
    }
   ],
   "source": [
    "plt.imshow(X_train[2])"
   ]
  },
  {
   "cell_type": "code",
   "execution_count": 17,
   "id": "d589e0b7",
   "metadata": {},
   "outputs": [],
   "source": [
    "### The number of classes, this is really important\n",
    "CLS = len(np.unique(y_train))"
   ]
  },
  {
   "cell_type": "code",
   "execution_count": 79,
   "id": "e84cdf81",
   "metadata": {},
   "outputs": [
    {
     "data": {
      "text/plain": [
       "256"
      ]
     },
     "execution_count": 79,
     "metadata": {},
     "output_type": "execute_result"
    }
   ],
   "source": [
    "2**8"
   ]
  },
  {
   "cell_type": "code",
   "execution_count": 118,
   "id": "a86948d8",
   "metadata": {},
   "outputs": [],
   "source": [
    "X_train = X_train/255.0\n",
    "X_test = X_test/255.0  #### very important trick---normalize your inputs!!!!!!!!!!!"
   ]
  },
  {
   "cell_type": "code",
   "execution_count": 139,
   "id": "0f192141",
   "metadata": {},
   "outputs": [],
   "source": [
    "from tensorflow.keras.layers import Dense, Flatten, Dropout, Input\n",
    "from tensorflow.keras.activations import softmax, relu\n",
    "from tensorflow.keras.optimizers import RMSprop\n",
    "from tensorflow.keras.models import Sequential, Model  ### Model is used for functional api"
   ]
  },
  {
   "cell_type": "code",
   "execution_count": 120,
   "id": "461073f6",
   "metadata": {},
   "outputs": [],
   "source": [
    "from tensorflow.keras.losses import SparseCategoricalCrossentropy, sparse_categorical_crossentropy, categorical_crossentropy\n",
    "from tensorflow.keras.metrics import Accuracy, Recall, FalsePositives, FalseNegatives"
   ]
  },
  {
   "cell_type": "code",
   "execution_count": 129,
   "id": "f84c14c1",
   "metadata": {},
   "outputs": [],
   "source": [
    "model = Sequential([\n",
    "    Flatten(),\n",
    "    Dropout(0.4),\n",
    "    Dense(200, activation = \"relu\", ),\n",
    "    Dropout(0.2),\n",
    "    Dense(15, activation = \"relu\"),\n",
    "    Dense(CLS, activation = \"softmax\") ###CLs = 10\n",
    "])   #####This way of creating models limits you to toy models."
   ]
  },
  {
   "cell_type": "code",
   "execution_count": 130,
   "id": "7cdddc54",
   "metadata": {},
   "outputs": [],
   "source": [
    "model.compile(optimizer = RMSprop(), loss = sparse_categorical_crossentropy, metrics = [\"accuracy\"])"
   ]
  },
  {
   "cell_type": "code",
   "execution_count": 131,
   "id": "7f2c81c1",
   "metadata": {},
   "outputs": [
    {
     "name": "stdout",
     "output_type": "stream",
     "text": [
      "Epoch 1/5\n",
      "938/938 [==============================] - 8s 8ms/step - loss: 0.8974 - accuracy: 0.7111 - val_loss: 0.3412 - val_accuracy: 0.9070\n",
      "Epoch 2/5\n",
      "938/938 [==============================] - 5s 5ms/step - loss: 0.5325 - accuracy: 0.8323 - val_loss: 0.2767 - val_accuracy: 0.9191\n",
      "Epoch 3/5\n",
      "938/938 [==============================] - 4s 5ms/step - loss: 0.4763 - accuracy: 0.8508 - val_loss: 0.2518 - val_accuracy: 0.9246\n",
      "Epoch 4/5\n",
      "938/938 [==============================] - 4s 4ms/step - loss: 0.4492 - accuracy: 0.8595 - val_loss: 0.2389 - val_accuracy: 0.9301\n",
      "Epoch 5/5\n",
      "938/938 [==============================] - 4s 4ms/step - loss: 0.4364 - accuracy: 0.8629 - val_loss: 0.2304 - val_accuracy: 0.9337\n"
     ]
    },
    {
     "data": {
      "text/plain": [
       "<keras.callbacks.History at 0x1e79f1d0a30>"
      ]
     },
     "execution_count": 131,
     "metadata": {},
     "output_type": "execute_result"
    }
   ],
   "source": [
    "model.fit(X_train, y_train,  batch_size = 64, epochs = 5, validation_data=(X_test, y_test))"
   ]
  },
  {
   "cell_type": "code",
   "execution_count": 136,
   "id": "06b96814",
   "metadata": {},
   "outputs": [
    {
     "name": "stdout",
     "output_type": "stream",
     "text": [
      "313/313 [==============================] - 1s 2ms/step\n"
     ]
    }
   ],
   "source": [
    "y_pred = model.predict(X_test)"
   ]
  },
  {
   "cell_type": "code",
   "execution_count": 146,
   "id": "630fb632",
   "metadata": {},
   "outputs": [],
   "source": [
    "I = Input(shape = (28,28))\n",
    "f = Flatten()(I)\n",
    "y = Dense(100, \"relu\")(f)\n",
    "x = Dropout(0.2)(y)\n",
    "x = Dense(150, \"relu\")(x)\n",
    "x = Dropout(0.2)(x)\n",
    "x = Dense(100, \"relu\")(x)\n",
    "x += y\n",
    "x = Dense(10, \"softmax\")(x)"
   ]
  },
  {
   "cell_type": "code",
   "execution_count": 147,
   "id": "cb724f5a",
   "metadata": {},
   "outputs": [],
   "source": [
    "model = Model(I, x)"
   ]
  },
  {
   "cell_type": "code",
   "execution_count": 154,
   "id": "e065da39",
   "metadata": {},
   "outputs": [
    {
     "name": "stdout",
     "output_type": "stream",
     "text": [
      "You must install pydot (`pip install pydot`) and install graphviz (see instructions at https://graphviz.gitlab.io/download/) for plot_model/model_to_dot to work.\n"
     ]
    }
   ],
   "source": [
    "plot_model(model)"
   ]
  },
  {
   "cell_type": "code",
   "execution_count": 148,
   "id": "7b443ca8",
   "metadata": {},
   "outputs": [
    {
     "name": "stdout",
     "output_type": "stream",
     "text": [
      "Epoch 1/5\n",
      "938/938 [==============================] - 8s 8ms/step - loss: 0.2863 - accuracy: 0.9144 - val_loss: 0.1462 - val_accuracy: 0.9516\n",
      "Epoch 2/5\n",
      "938/938 [==============================] - 5s 6ms/step - loss: 0.1363 - accuracy: 0.9596 - val_loss: 0.1021 - val_accuracy: 0.9689\n",
      "Epoch 3/5\n",
      "938/938 [==============================] - 6s 6ms/step - loss: 0.1044 - accuracy: 0.9689 - val_loss: 0.0849 - val_accuracy: 0.9752\n",
      "Epoch 4/5\n",
      "938/938 [==============================] - 12s 12ms/step - loss: 0.0856 - accuracy: 0.9736 - val_loss: 0.0825 - val_accuracy: 0.9766\n",
      "Epoch 5/5\n",
      "938/938 [==============================] - 5s 5ms/step - loss: 0.0758 - accuracy: 0.9770 - val_loss: 0.0840 - val_accuracy: 0.9761\n"
     ]
    },
    {
     "data": {
      "text/plain": [
       "<keras.callbacks.History at 0x1e7a3a428e0>"
      ]
     },
     "execution_count": 148,
     "metadata": {},
     "output_type": "execute_result"
    }
   ],
   "source": [
    "model.compile(optimizer = RMSprop(), loss = sparse_categorical_crossentropy, metrics = [\"accuracy\"])\n",
    "model.fit(X_train, y_train,  batch_size = 64, epochs = 5, validation_data=(X_test, y_test))"
   ]
  },
  {
   "cell_type": "code",
   "execution_count": 149,
   "id": "4315e151",
   "metadata": {},
   "outputs": [
    {
     "name": "stdout",
     "output_type": "stream",
     "text": [
      "Model: \"model_2\"\n",
      "__________________________________________________________________________________________________\n",
      " Layer (type)                   Output Shape         Param #     Connected to                     \n",
      "==================================================================================================\n",
      " input_3 (InputLayer)           [(None, 28, 28)]     0           []                               \n",
      "                                                                                                  \n",
      " flatten_12 (Flatten)           (None, 784)          0           ['input_3[0][0]']                \n",
      "                                                                                                  \n",
      " dense_42 (Dense)               (None, 100)          78500       ['flatten_12[0][0]']             \n",
      "                                                                                                  \n",
      " dropout_5 (Dropout)            (None, 100)          0           ['dense_42[0][0]']               \n",
      "                                                                                                  \n",
      " dense_43 (Dense)               (None, 150)          15150       ['dropout_5[0][0]']              \n",
      "                                                                                                  \n",
      " dropout_6 (Dropout)            (None, 150)          0           ['dense_43[0][0]']               \n",
      "                                                                                                  \n",
      " dense_44 (Dense)               (None, 100)          15100       ['dropout_6[0][0]']              \n",
      "                                                                                                  \n",
      " tf.__operators__.add (TFOpLamb  (None, 100)         0           ['dense_44[0][0]',               \n",
      " da)                                                              'dense_42[0][0]']               \n",
      "                                                                                                  \n",
      " dense_45 (Dense)               (None, 10)           1010        ['tf.__operators__.add[0][0]']   \n",
      "                                                                                                  \n",
      "==================================================================================================\n",
      "Total params: 109,760\n",
      "Trainable params: 109,760\n",
      "Non-trainable params: 0\n",
      "__________________________________________________________________________________________________\n"
     ]
    }
   ],
   "source": [
    "model.summary()"
   ]
  },
  {
   "cell_type": "code",
   "execution_count": null,
   "id": "73649090",
   "metadata": {},
   "outputs": [],
   "source": []
  }
 ],
 "metadata": {
  "kernelspec": {
   "display_name": "Python 3 (ipykernel)",
   "language": "python",
   "name": "python3"
  },
  "language_info": {
   "codemirror_mode": {
    "name": "ipython",
    "version": 3
   },
   "file_extension": ".py",
   "mimetype": "text/x-python",
   "name": "python",
   "nbconvert_exporter": "python",
   "pygments_lexer": "ipython3",
   "version": "3.9.12"
  }
 },
 "nbformat": 4,
 "nbformat_minor": 5
}
