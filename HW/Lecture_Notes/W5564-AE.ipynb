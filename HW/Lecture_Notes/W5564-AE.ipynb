{
 "cells": [
  {
   "cell_type": "code",
   "execution_count": 35,
   "id": "2fd3e4e6",
   "metadata": {},
   "outputs": [],
   "source": [
    "import tensorflow as tf\n",
    "from tensorflow.keras.models import Model, Sequential\n",
    "from tensorflow.keras.activations import relu, selu, gelu\n",
    "from tensorflow.keras.layers import Dense, Dropout, BatchNormalization, Reshape, Flatten\n",
    "from tensorflow.keras.datasets import mnist"
   ]
  },
  {
   "cell_type": "code",
   "execution_count": 6,
   "id": "86b944b0",
   "metadata": {},
   "outputs": [],
   "source": [
    "import matplotlib.pyplot as plt"
   ]
  },
  {
   "cell_type": "code",
   "execution_count": 9,
   "id": "b9660bf8",
   "metadata": {},
   "outputs": [],
   "source": [
    "(X_train, y_train), (X_test, y_test) = mnist.load_data()"
   ]
  },
  {
   "cell_type": "code",
   "execution_count": 57,
   "id": "2bed2c05",
   "metadata": {},
   "outputs": [],
   "source": [
    "X_train = X_train/255.0\n",
    "X_test = X_test/255.0"
   ]
  },
  {
   "cell_type": "code",
   "execution_count": 11,
   "id": "3632011f",
   "metadata": {},
   "outputs": [
    {
     "data": {
      "text/plain": [
       "<matplotlib.image.AxesImage at 0x1b81aeb7730>"
      ]
     },
     "execution_count": 11,
     "metadata": {},
     "output_type": "execute_result"
    },
    {
     "data": {
      "image/png": "[encoded data removed]",
      "text/plain": [
       "<Figure size 432x288 with 1 Axes>"
      ]
     },
     "metadata": {
      "needs_background": "light"
     },
     "output_type": "display_data"
    }
   ],
   "source": [
    "plt.imshow(X_train[1])"
   ]
  },
  {
   "cell_type": "code",
   "execution_count": 18,
   "id": "37813215",
   "metadata": {},
   "outputs": [
    {
     "data": {
      "text/plain": [
       "<tf.Tensor: shape=(1, 10), dtype=float32, numpy=\n",
       "array([[ 0.70015454, -0.6370883 , -1.1774528 ,  1.5485414 , -2.3760877 ,\n",
       "        -0.77953863,  1.8913059 , -1.3807088 , -0.1184495 , -0.9367167 ]],\n",
       "      dtype=float32)>"
      ]
     },
     "execution_count": 18,
     "metadata": {},
     "output_type": "execute_result"
    }
   ],
   "source": [
    "Dense(10)(tf.random.normal((1, 120))) ### Keep mind dimension here"
   ]
  },
  {
   "cell_type": "code",
   "execution_count": 20,
   "id": "29426d65",
   "metadata": {},
   "outputs": [],
   "source": [
    "### Dim = [256, 128, 16, 4] encoder dimensions\n",
    "### Dim = [16, 128, 256, 784] decoder dimensions\n",
    "relu = lambda x : max(0, x)"
   ]
  },
  {
   "cell_type": "code",
   "execution_count": 144,
   "id": "90d7cb2f",
   "metadata": {},
   "outputs": [],
   "source": [
    "class AutoEncoder(Model):\n",
    "    def __init__(self):\n",
    "        super().__init__()\n",
    "        self.encoder = Sequential([\n",
    "            Dense(256, activation = \"relu\"),\n",
    "            Dense(2),\n",
    "        ])\n",
    "        self.decoder = Sequential([\n",
    "            Dense(16),\n",
    "            Dense(784,\"relu\") \n",
    "        ])\n",
    "    def call(self, x, train = None):\n",
    "        x = Flatten()(x)\n",
    "        encoder_out = self.encoder(x)\n",
    "        decoder_out = self.decoder(encoder_out)\n",
    "        \n",
    "        return Reshape((28,28))(decoder_out)\n",
    "        \n",
    "    def encoder_output(self,x):\n",
    "        x = Flatten()(x)\n",
    "        return self.encoder(x)\n",
    "    "
   ]
  },
  {
   "cell_type": "code",
   "execution_count": 146,
   "id": "d5385815",
   "metadata": {},
   "outputs": [
    {
     "data": {
      "text/plain": [
       "<tf.Tensor: shape=(1, 2), dtype=float32, numpy=array([[-0.5785281,  1.1316191]], dtype=float32)>"
      ]
     },
     "execution_count": 146,
     "metadata": {},
     "output_type": "execute_result"
    }
   ],
   "source": [
    "AutoEncoder().encoder_output(tf.random.normal((1,28,28)))"
   ]
  },
  {
   "cell_type": "code",
   "execution_count": 147,
   "id": "b7b0567b",
   "metadata": {},
   "outputs": [],
   "source": [
    "AE = AutoEncoder()"
   ]
  },
  {
   "cell_type": "code",
   "execution_count": 148,
   "id": "ba422992",
   "metadata": {},
   "outputs": [],
   "source": [
    "AE.compile(optimizer = \"adam\", loss = \"mse\")"
   ]
  },
  {
   "cell_type": "code",
   "execution_count": 140,
   "id": "e43ed275",
   "metadata": {},
   "outputs": [
    {
     "name": "stdout",
     "output_type": "stream",
     "text": [
      "Epoch 1/5\n",
      "3750/3750 [==============================] - 10s 3ms/step - loss: 0.0314 - val_loss: 0.0278\n",
      "Epoch 2/5\n",
      "3750/3750 [==============================] - 9s 2ms/step - loss: 0.0280 - val_loss: 0.0273\n",
      "Epoch 3/5\n",
      "3750/3750 [==============================] - 8s 2ms/step - loss: 0.0276 - val_loss: 0.0272\n",
      "Epoch 4/5\n",
      "3750/3750 [==============================] - 8s 2ms/step - loss: 0.0275 - val_loss: 0.0271\n",
      "Epoch 5/5\n",
      "3750/3750 [==============================] - 8s 2ms/step - loss: 0.0273 - val_loss: 0.0269\n"
     ]
    },
    {
     "data": {
      "text/plain": [
       "<keras.callbacks.History at 0x1b881a05640>"
      ]
     },
     "execution_count": 140,
     "metadata": {},
     "output_type": "execute_result"
    }
   ],
   "source": [
    "AE.fit(X_train, X_train, epochs = 5, batch_size = 16, validation_data=(X_test, X_test))"
   ]
  },
  {
   "cell_type": "code",
   "execution_count": 121,
   "id": "e0d8fdb3",
   "metadata": {},
   "outputs": [
    {
     "name": "stdout",
     "output_type": "stream",
     "text": [
      "313/313 [==============================] - 1s 3ms/step\n"
     ]
    }
   ],
   "source": [
    "X_test_pred = AE.predict(X_test)"
   ]
  },
  {
   "cell_type": "code",
   "execution_count": 122,
   "id": "e6352824",
   "metadata": {},
   "outputs": [
    {
     "data": {
      "text/plain": [
       "<matplotlib.image.AxesImage at 0x1b8793f3130>"
      ]
     },
     "execution_count": 122,
     "metadata": {},
     "output_type": "execute_result"
    },
    {
     "data": {
      "image/png": "[encoded data removed]",
      "text/plain": [
       "<Figure size 432x288 with 1 Axes>"
      ]
     },
     "metadata": {
      "needs_background": "light"
     },
     "output_type": "display_data"
    }
   ],
   "source": [
    "plt.imshow(X_test[400])"
   ]
  },
  {
   "cell_type": "code",
   "execution_count": 123,
   "id": "0f7f5477",
   "metadata": {},
   "outputs": [
    {
     "data": {
      "text/plain": [
       "<matplotlib.image.AxesImage at 0x1b8751e7400>"
      ]
     },
     "execution_count": 123,
     "metadata": {},
     "output_type": "execute_result"
    },
    {
     "data": {
      "image/png": "[encoded data removed]",
      "text/plain": [
       "<Figure size 432x288 with 1 Axes>"
      ]
     },
     "metadata": {
      "needs_background": "light"
     },
     "output_type": "display_data"
    }
   ],
   "source": [
    "plt.imshow(X_test_pred[400])"
   ]
  },
  {
   "cell_type": "code",
   "execution_count": 132,
   "id": "d5669bad",
   "metadata": {},
   "outputs": [],
   "source": [
    "import numpy as np"
   ]
  },
  {
   "cell_type": "code",
   "execution_count": 142,
   "id": "ab584f98",
   "metadata": {},
   "outputs": [],
   "source": [
    "X_test_reducted = np.number(AE.encoder_output(X_test))"
   ]
  },
  {
   "cell_type": "code",
   "execution_count": 143,
   "id": "ab5525ad",
   "metadata": {},
   "outputs": [
    {
     "data": {
      "text/plain": [
       "(10000, 10)"
      ]
     },
     "execution_count": 143,
     "metadata": {},
     "output_type": "execute_result"
    }
   ],
   "source": [
    "X_test_reducted.shape"
   ]
  },
  {
   "cell_type": "code",
   "execution_count": 135,
   "id": "bbbba187",
   "metadata": {},
   "outputs": [
    {
     "data": {
      "image/png": "[encoded data removed]",
      "text/plain": [
       "<Figure size 432x288 with 1 Axes>"
      ]
     },
     "metadata": {
      "needs_background": "light"
     },
     "output_type": "display_data"
    }
   ],
   "source": [
    "for i in range(10):\n",
    "    plt.scatter(X_test_reducted[y_test == i,0], X_test_reducted[y_test == i,1], label = f\"{i}\") \n",
    "plt.legend()\n",
    "plt.show()"
   ]
  }
 ],
 "metadata": {
  "kernelspec": {
   "display_name": "Python 3 (ipykernel)",
   "language": "python",
   "name": "python3"
  },
  "language_info": {
   "codemirror_mode": {
    "name": "ipython",
    "version": 3
   },
   "file_extension": ".py",
   "mimetype": "text/x-python",
   "name": "python",
   "nbconvert_exporter": "python",
   "pygments_lexer": "ipython3",
   "version": "3.9.12"
  }
 },
 "nbformat": 4,
 "nbformat_minor": 5
}
