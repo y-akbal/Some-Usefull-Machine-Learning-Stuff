{
 "cells": [
  {
   "cell_type": "code",
   "execution_count": 1,
   "id": "3dec135a",
   "metadata": {},
   "outputs": [],
   "source": [
    "import tensorflow as tf\n",
    "from tensorflow.keras.models import Model, Sequential\n",
    "from tensorflow.keras.activations import relu, selu, gelu\n",
    "from tensorflow.keras.layers import Dense, Dropout, BatchNormalization, Reshape, Flatten\n",
    "import os\n",
    "import pandas as pd"
   ]
  },
  {
   "cell_type": "markdown",
   "id": "5af534c8",
   "metadata": {},
   "source": [
    "[![Open in Colab](https://colab.research.google.com/assets/colab-badge.svg)](https://colab.research.google.com/github/y-akbal/Some-Usefull-Machine-Learning-Stuff/blob/main/HW/Lecture_Notes/W6564-LSTM_yerli_milli.ipynb)\n"
   ]
  },
  {
   "cell_type": "code",
   "execution_count": 2,
   "id": "5b6e76a7",
   "metadata": {},
   "outputs": [
    {
     "data": {
      "text/plain": [
       "True"
      ]
     },
     "execution_count": 2,
     "metadata": {},
     "output_type": "execute_result"
    }
   ],
   "source": [
    "def download_data():  ### This dude will download the dataset from the directory directly!\n",
    "  import requests\n",
    "  url = \"https://raw.githubusercontent.com/y-akbal/Some-Usefull-Machine-Learning-Stuff/main/HW/Lecture_Notes/compiled.txt\"\n",
    "  res = requests.get(url, allow_redirects=True)\n",
    "  with open('compiled.txt','wb') as file:\n",
    "    file.write(res.content)\n",
    "\n",
    "download_data()     \n",
    "os.listdir()\n",
    "os.path.exists(\"compiled.txt\")"
   ]
  }
 ],
 "metadata": {
  "kernelspec": {
   "display_name": "Python 3 (ipykernel)",
   "language": "python",
   "name": "python3"
  },
  "language_info": {
   "codemirror_mode": {
    "name": "ipython",
    "version": 3
   },
   "file_extension": ".py",
   "mimetype": "text/x-python",
   "name": "python",
   "nbconvert_exporter": "python",
   "pygments_lexer": "ipython3",
   "version": "3.9.12"
  }
 },
 "nbformat": 4,
 "nbformat_minor": 5
}
