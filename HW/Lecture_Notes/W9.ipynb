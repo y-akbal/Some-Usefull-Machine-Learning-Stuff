{
  "cells": [
    {
      "cell_type": "markdown",
      "metadata": {
        "id": "30S-VZV47_np"
      },
      "source": [
        "\n",
        "\n",
        "[![Open in Colab](https://colab.research.google.com/assets/colab-badge.svg)](https://colab.research.google.com/github/y-akbal/Tedu_Time_Series/blob/main/W7/W7cankaya.ipynb)\n"
      ]
    },
    {
      "cell_type": "code",
      "execution_count": 1,
      "metadata": {
        "id": "qykywvtFcM0k"
      },
      "outputs": [],
      "source": [
        "import matplotlib.pyplot as plt\n",
        "import numpy as np\n",
        "import pandas as pd\n",
        "import statsmodels\n",
        "from statsmodels.tsa import stattools\n",
        "import os"
      ]
    },
    {
      "cell_type": "code",
      "execution_count": 2,
      "metadata": {
        "id": "Ea-wwnPPiXW7"
      },
      "outputs": [],
      "source": [
        "def download_data():  ### This dude will download the dataset from the directory directly!\n",
        "  import requests\n",
        "  url = \"https://raw.githubusercontent.com/y-akbal/Tedu_Time_Series/main/W7/cankaya_sicaklik.csv\"\n",
        "  res = requests.get(url, allow_redirects=True)\n",
        "  with open('cankaya_sicaklik.csv','wb') as file:\n",
        "    file.write(res.content)\n",
        "\n",
        "download_data()  "
      ]
    },
    {
      "cell_type": "code",
      "execution_count": null,
      "metadata": {
        "id": "shvTzBj_x9Lb"
      },
      "outputs": [],
      "source": [
        "https://theblog.github.io/post/convolution-in-autoregressive-neural-networks/"
      ]
    }
  ],
  "metadata": {
    "colab": {
      "provenance": []
    },
    "kernelspec": {
      "display_name": "Python 3",
      "name": "python3"
    },
    "language_info": {
      "name": "python"
    }
  },
  "nbformat": 4,
  "nbformat_minor": 0
}
