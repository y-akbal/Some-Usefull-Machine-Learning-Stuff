{
  "cells": [
    {
      "cell_type": "markdown",
      "metadata": {
        "id": "30S-VZV47_np"
      },
      "source": [
        "\n",
        "\n",
        "[![Open in Colab](https://colab.research.google.com/assets/colab-badge.svg)](https://colab.research.google.com/github/y-akbal/Tedu_Time_Series/blob/main/W7/W7cankaya.ipynb)\n"
      ]
    },
    {
      "cell_type": "code",
      "execution_count": 1,
      "metadata": {
        "id": "qykywvtFcM0k"
      },
      "outputs": [],
      "source": [
        "import matplotlib.pyplot as plt\n",
        "import numpy as np\n",
        "import pandas as pd\n",
        "import statsmodels\n",
        "from statsmodels.tsa import stattools\n",
        "import os"
      ]
    },
    {
      "cell_type": "code",
      "execution_count": 2,
      "metadata": {
        "id": "Ea-wwnPPiXW7"
      },
      "outputs": [],
      "source": [
        "def download_data():  ### This dude will download the dataset from the directory directly!\n",
        "  import requests\n",
        "  url = \"https://raw.githubusercontent.com/y-akbal/Tedu_Time_Series/main/W7/cankaya_sicaklik.csv\"\n",
        "  res = requests.get(url, allow_redirects=True)\n",
        "  with open('cankaya_sicaklik.csv','wb') as file:\n",
        "    file.write(res.content)\n",
        "\n",
        "download_data()  "
      ]
    },
    {
      "cell_type": "code",
      "source": [
        "L = pd.read_csv(\"cankaya_sicaklik.csv\")"
      ],
      "metadata": {
        "id": "shvTzBj_x9Lb"
      },
      "execution_count": 3,
      "outputs": []
    },
    {
      "cell_type": "code",
      "source": [
        "ts = L.iloc[:, -1]"
      ],
      "metadata": {
        "id": "7xID1RabyGWg"
      },
      "execution_count": 6,
      "outputs": []
    },
    {
      "cell_type": "code",
      "source": [],
      "metadata": {
        "id": "6Ga3hWmyyL1v",
        "outputId": "8d307ad5-da84-4822-fe6d-615a1369b7f2",
        "colab": {
          "base_uri": "https://localhost:8080/"
        }
      },
      "execution_count": 8,
      "outputs": [
        {
          "output_type": "execute_result",
          "data": {
            "text/plain": [
              "0"
            ]
          },
          "metadata": {},
          "execution_count": 8
        }
      ]
    }
  ],
  "metadata": {
    "colab": {
      "provenance": []
    },
    "kernelspec": {
      "display_name": "Python 3",
      "name": "python3"
    },
    "language_info": {
      "name": "python"
    }
  },
  "nbformat": 4,
  "nbformat_minor": 0
}