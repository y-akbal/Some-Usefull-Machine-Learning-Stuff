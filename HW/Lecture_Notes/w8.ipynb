{
 "cells": [
  {
   "cell_type": "markdown",
   "id": "9bb78e88",
   "metadata": {},
   "source": [
    "[![Open in Colab](https://colab.research.google.com/assets/colab-badge.svg)](https://colab.research.google.com/github/y-akbal/Some-Usefull-Machine-Learning-Stuff/blob/main/HW/Lecture_Notes/W8.ipynb)"
   ]
  },
  {
   "cell_type": "code",
   "execution_count": 21,
   "id": "c69adf95",
   "metadata": {},
   "outputs": [],
   "source": [
    "import requests\n",
    "import shutil\n",
    "from PIL import Image\n",
    "import numpy as np"
   ]
  },
  {
   "cell_type": "code",
   "execution_count": 2,
   "id": "61879919",
   "metadata": {},
   "outputs": [],
   "source": [
    "url = \"https://i0.wp.com/vaguevisages.com/wp-content/uploads/2017/07/stalker-movie-tarkovsky-four.jpg?w=1600&ssl=1\"\n",
    "response = requests.get(url, stream=True)\n",
    "with open('img.png', 'wb') as out_file:\n",
    "    shutil.copyfileobj(response.raw, out_file)\n",
    "del response"
   ]
  },
  {
   "cell_type": "code",
   "execution_count": 3,
   "id": "1229914a",
   "metadata": {},
   "outputs": [],
   "source": [
    "image = Image.open(\"img.png\")"
   ]
  },
  {
   "cell_type": "code",
   "execution_count": null,
   "id": "efd22b88",
   "metadata": {},
   "outputs": [],
   "source": [
    "from matplotlib import pyplot as plt\n",
    "plt.imshow(array.mean(-1)+ 5*np.random.normal(size = array.mean(-1).shape))"
   ]
  }
 ],
 "metadata": {
  "kernelspec": {
   "display_name": "Python 3 (ipykernel)",
   "language": "python",
   "name": "python3"
  },
  "language_info": {
   "codemirror_mode": {
    "name": "ipython",
    "version": 3
   },
   "file_extension": ".py",
   "mimetype": "text/x-python",
   "name": "python",
   "nbconvert_exporter": "python",
   "pygments_lexer": "ipython3",
   "version": "3.9.12"
  }
 },
 "nbformat": 4,
 "nbformat_minor": 5
}
