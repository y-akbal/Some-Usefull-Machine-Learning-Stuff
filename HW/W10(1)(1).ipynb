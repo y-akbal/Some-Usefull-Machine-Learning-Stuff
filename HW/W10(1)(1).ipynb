{
  "nbformat": 4,
  "nbformat_minor": 0,
  "metadata": {
    "colab": {
      "provenance": [],
      "gpuType": "T4"
    },
    "kernelspec": {
      "name": "python3",
      "display_name": "Python 3"
    },
    "language_info": {
      "name": "python"
    },
    "gpuClass": "standard",
    "accelerator": "GPU"
  },
  "cells": [
    {
      "cell_type": "code",
      "source": [
        "import tensorflow as tf\n",
        "from tensorflow.keras.layers import Conv2D, MaxPooling2D, Dense, BatchNormalization, Flatten, Dropout, RandomFlip, RandomRotation\n",
        "from tensorflow.keras.layers import Rescaling, Resizing, AveragePooling2D, GlobalAvgPool2D\n",
        "from tensorflow.keras.activations import relu\n",
        "from tensorflow.keras.models import Model, Sequential\n",
        "import numpy as np"
      ],
      "metadata": {
        "id": "39dyWybi_o-B"
      },
      "execution_count": 1,
      "outputs": []
    },
    {
      "cell_type": "code",
      "execution_count": 2,
      "metadata": {
        "id": "JwnAeZwW_UOf"
      },
      "outputs": [],
      "source": [
        "from tensorflow.keras.applications import vgg16, vgg19, mobilenet, mobilenet_v2, mobilenet_v3, ResNet50"
      ]
    },
    {
      "cell_type": "code",
      "source": [
        "model = mobilenet_v2.MobileNetV2(include_top = True, input_shape = (224,224,3))"
      ],
      "metadata": {
        "id": "R33urt33_b6N"
      },
      "execution_count": 3,
      "outputs": []
    },
    {
      "cell_type": "code",
      "source": [
        "model_ = Model(model.input, outputs = model.layers[-10].output)\n",
        "model_.trainable = False"
      ],
      "metadata": {
        "id": "1DXsybTCFiel"
      },
      "execution_count": 4,
      "outputs": []
    },
    {
      "cell_type": "code",
      "source": [
        "model_(np.random.randn(1,224,224,3))"
      ],
      "metadata": {
        "colab": {
          "base_uri": "https://localhost:8080/"
        },
        "id": "lQ7hdJBbFdRZ",
        "outputId": "836fa11e-e062-46ea-99fb-5449191f500b"
      },
      "execution_count": 5,
      "outputs": [
        {
          "output_type": "execute_result",
          "data": {
            "text/plain": [
              "<tf.Tensor: shape=(1, 7, 7, 960), dtype=float32, numpy=\n",
              "number([[[[0.00000000e+00, 0.00000000e+00, 3.00266695e+00, ...,\n",
              "          0.00000000e+00, 7.78973335e-03, 7.99900219e-02],\n",
              "         [0.00000000e+00, 0.00000000e+00, 3.49860263e+00, ...,\n",
              "          0.00000000e+00, 1.25010004e-02, 1.27201706e-01],\n",
              "         [0.00000000e+00, 0.00000000e+00, 2.46250963e+00, ...,\n",
              "          0.00000000e+00, 3.67786246e-03, 0.00000000e+00],\n",
              "         ...,\n",
              "         [0.00000000e+00, 0.00000000e+00, 2.21845078e+00, ...,\n",
              "          0.00000000e+00, 2.70746811e-03, 0.00000000e+00],\n",
              "         [0.00000000e+00, 0.00000000e+00, 3.23680687e+00, ...,\n",
              "          0.00000000e+00, 0.00000000e+00, 0.00000000e+00],\n",
              "         [0.00000000e+00, 0.00000000e+00, 2.77449155e+00, ...,\n",
              "          0.00000000e+00, 0.00000000e+00, 0.00000000e+00]],\n",
              "\n",
              "        [[0.00000000e+00, 0.00000000e+00, 3.86490059e+00, ...,\n",
              "          0.00000000e+00, 1.69080459e-02, 1.11095175e-01],\n",
              "         [0.00000000e+00, 0.00000000e+00, 4.23909092e+00, ...,\n",
              "          0.00000000e+00, 2.60916594e-02, 1.66001126e-01],\n",
              "         [0.00000000e+00, 0.00000000e+00, 2.95836830e+00, ...,\n",
              "          0.00000000e+00, 4.69374750e-03, 0.00000000e+00],\n",
              "         ...,\n",
              "         [0.00000000e+00, 0.00000000e+00, 2.51603603e+00, ...,\n",
              "          0.00000000e+00, 3.73207848e-03, 0.00000000e+00],\n",
              "         [0.00000000e+00, 0.00000000e+00, 3.64405870e+00, ...,\n",
              "          0.00000000e+00, 1.85372122e-02, 0.00000000e+00],\n",
              "         [0.00000000e+00, 0.00000000e+00, 3.37738061e+00, ...,\n",
              "          0.00000000e+00, 1.40959555e-02, 0.00000000e+00]],\n",
              "\n",
              "        [[0.00000000e+00, 0.00000000e+00, 3.63585711e+00, ...,\n",
              "          0.00000000e+00, 2.59289425e-02, 0.00000000e+00],\n",
              "         [0.00000000e+00, 0.00000000e+00, 4.03193998e+00, ...,\n",
              "          0.00000000e+00, 3.77989188e-02, 0.00000000e+00],\n",
              "         [0.00000000e+00, 0.00000000e+00, 3.03827691e+00, ...,\n",
              "          0.00000000e+00, 0.00000000e+00, 0.00000000e+00],\n",
              "         ...,\n",
              "         [0.00000000e+00, 0.00000000e+00, 2.71915174e+00, ...,\n",
              "          0.00000000e+00, 0.00000000e+00, 0.00000000e+00],\n",
              "         [0.00000000e+00, 0.00000000e+00, 3.38427496e+00, ...,\n",
              "          0.00000000e+00, 3.02676726e-02, 0.00000000e+00],\n",
              "         [0.00000000e+00, 0.00000000e+00, 2.96628642e+00, ...,\n",
              "          0.00000000e+00, 2.00813059e-02, 0.00000000e+00]],\n",
              "\n",
              "        ...,\n",
              "\n",
              "        [[0.00000000e+00, 0.00000000e+00, 3.61962676e+00, ...,\n",
              "          0.00000000e+00, 1.63827743e-02, 0.00000000e+00],\n",
              "         [0.00000000e+00, 0.00000000e+00, 4.29387903e+00, ...,\n",
              "          0.00000000e+00, 2.49825008e-02, 0.00000000e+00],\n",
              "         [0.00000000e+00, 0.00000000e+00, 3.38603616e+00, ...,\n",
              "          0.00000000e+00, 0.00000000e+00, 0.00000000e+00],\n",
              "         ...,\n",
              "         [0.00000000e+00, 0.00000000e+00, 3.11689377e+00, ...,\n",
              "          0.00000000e+00, 0.00000000e+00, 0.00000000e+00],\n",
              "         [0.00000000e+00, 0.00000000e+00, 3.77993178e+00, ...,\n",
              "          0.00000000e+00, 2.19011437e-02, 0.00000000e+00],\n",
              "         [0.00000000e+00, 0.00000000e+00, 3.02656078e+00, ...,\n",
              "          0.00000000e+00, 1.50973089e-02, 0.00000000e+00]],\n",
              "\n",
              "        [[0.00000000e+00, 0.00000000e+00, 4.23437309e+00, ...,\n",
              "          0.00000000e+00, 5.19306865e-03, 0.00000000e+00],\n",
              "         [0.00000000e+00, 0.00000000e+00, 5.18444252e+00, ...,\n",
              "          0.00000000e+00, 1.24977035e-02, 0.00000000e+00],\n",
              "         [0.00000000e+00, 0.00000000e+00, 4.36675882e+00, ...,\n",
              "          0.00000000e+00, 1.30609525e-02, 0.00000000e+00],\n",
              "         ...,\n",
              "         [0.00000000e+00, 0.00000000e+00, 4.16617966e+00, ...,\n",
              "          0.00000000e+00, 2.00634319e-02, 0.00000000e+00],\n",
              "         [1.18961561e+00, 0.00000000e+00, 4.97864532e+00, ...,\n",
              "          0.00000000e+00, 3.18918489e-02, 3.43917280e-01],\n",
              "         [9.48178828e-01, 0.00000000e+00, 4.30339527e+00, ...,\n",
              "          0.00000000e+00, 1.34882145e-02, 2.80947030e-01]],\n",
              "\n",
              "        [[0.00000000e+00, 0.00000000e+00, 3.21524787e+00, ...,\n",
              "          0.00000000e+00, 0.00000000e+00, 0.00000000e+00],\n",
              "         [0.00000000e+00, 0.00000000e+00, 4.18508291e+00, ...,\n",
              "          0.00000000e+00, 3.94520909e-03, 0.00000000e+00],\n",
              "         [0.00000000e+00, 0.00000000e+00, 3.77635479e+00, ...,\n",
              "          0.00000000e+00, 9.99516435e-03, 0.00000000e+00],\n",
              "         ...,\n",
              "         [0.00000000e+00, 0.00000000e+00, 3.66745472e+00, ...,\n",
              "          0.00000000e+00, 1.38816787e-02, 0.00000000e+00],\n",
              "         [1.04395187e+00, 0.00000000e+00, 4.52245569e+00, ...,\n",
              "          0.00000000e+00, 1.85304657e-02, 2.77896971e-01],\n",
              "         [6.95388615e-01, 0.00000000e+00, 3.39574885e+00, ...,\n",
              "          0.00000000e+00, 4.34553018e-03, 1.83180302e-01]]]],\n",
              "      dtype=float32)>"
            ]
          },
          "metadata": {},
          "execution_count": 5
        }
      ]
    },
    {
      "cell_type": "code",
      "source": [
        "model_ = Sequential([\n",
        "        model_,\n",
        "        GlobalAvgPool2D(),\n",
        "        Flatten(),\n",
        "     Dropout(0.8),\n",
        "    Dense(102)\n",
        "])"
      ],
      "metadata": {
        "id": "gWvJ7UlS_e7p"
      },
      "execution_count": 6,
      "outputs": []
    },
    {
      "cell_type": "code",
      "source": [
        "dataset_n = \"oxford_flowers102\"\n",
        "import tensorflow_datasets as tfds\n",
        "# --- #\n",
        "# Construct a tf.data.Dataset\n",
        "# --- #\n",
        "ds_train, ds_test = tfds.load(dataset_n, split=['train','test'], shuffle_files=True, as_supervised = True)"
      ],
      "metadata": {
        "id": "YMf9EUvf_v1r"
      },
      "execution_count": 7,
      "outputs": []
    },
    {
      "cell_type": "code",
      "source": [
        "def transform(image, label):\n",
        "    image = Resizing(224,224)(image)\n",
        "    image = Rescaling(1/127.5, offset = -1)(image)\n",
        "    return image, label\n",
        "def pipeline(data_set, train = True):\n",
        "    data_set = data_set.map(transform, num_parallel_calls = tf.data.AUTOTUNE)\n",
        "    data_set = data_set.cache()\n",
        "    if train:\n",
        "        data_set = data_set.shuffle(10000)\n",
        "    data_set = data_set.batch(16)\n",
        "    data_set = data_set.prefetch(tf.data.AUTOTUNE)\n",
        "    return data_set"
      ],
      "metadata": {
        "id": "2THTIilD_2tR"
      },
      "execution_count": 8,
      "outputs": []
    },
    {
      "cell_type": "code",
      "source": [
        "ds_train = pipeline(ds_train)\n",
        "ds_test = pipeline(ds_test, False)"
      ],
      "metadata": {
        "id": "1Ad9_NGM_6Af"
      },
      "execution_count": 9,
      "outputs": []
    },
    {
      "cell_type": "code",
      "source": [
        "model_.compile(optimizer= \"adam\", loss= tf.keras.losses.SparseCategoricalCrossentropy(from_logits = True), metrics = tf.keras.metrics.SparseCategoricalAccuracy())\n",
        "model_.fit(ds_train, epochs = 10, validation_data = ds_test) "
      ],
      "metadata": {
        "colab": {
          "base_uri": "https://localhost:8080/",
          "height": 690
        },
        "id": "Ofz2vLdT_8A9",
        "outputId": "54acb7b6-21c6-4382-b3f8-f5a4c777a212"
      },
      "execution_count": 10,
      "outputs": [
        {
          "output_type": "stream",
          "name": "stdout",
          "text": [
            "Epoch 1/10\n",
            "64/64 [==============================] - 31s 374ms/step - loss: 8.2761 - sparse_categorical_accuracy: 0.0088 - val_loss: 4.5643 - val_sparse_categorical_accuracy: 0.0218\n",
            "Epoch 2/10\n",
            "64/64 [==============================] - 12s 187ms/step - loss: 7.4370 - sparse_categorical_accuracy: 0.0088 - val_loss: 4.2604 - val_sparse_categorical_accuracy: 0.0738\n",
            "Epoch 3/10\n",
            "64/64 [==============================] - 9s 150ms/step - loss: 6.8940 - sparse_categorical_accuracy: 0.0196 - val_loss: 4.0075 - val_sparse_categorical_accuracy: 0.1408\n",
            "Epoch 4/10\n",
            "64/64 [==============================] - 9s 149ms/step - loss: 6.0194 - sparse_categorical_accuracy: 0.0265 - val_loss: 3.7915 - val_sparse_categorical_accuracy: 0.1984\n",
            "Epoch 5/10\n",
            "64/64 [==============================] - 10s 151ms/step - loss: 5.6305 - sparse_categorical_accuracy: 0.0382 - val_loss: 3.5404 - val_sparse_categorical_accuracy: 0.3326\n",
            "Epoch 6/10\n",
            "64/64 [==============================] - 10s 152ms/step - loss: 5.0413 - sparse_categorical_accuracy: 0.0529 - val_loss: 3.3821 - val_sparse_categorical_accuracy: 0.3209\n",
            "Epoch 7/10\n",
            "64/64 [==============================] - 9s 150ms/step - loss: 4.7549 - sparse_categorical_accuracy: 0.0804 - val_loss: 3.1852 - val_sparse_categorical_accuracy: 0.4253\n",
            "Epoch 8/10\n",
            "64/64 [==============================] - 9s 149ms/step - loss: 4.3207 - sparse_categorical_accuracy: 0.1029 - val_loss: 3.0217 - val_sparse_categorical_accuracy: 0.4833\n",
            "Epoch 9/10\n",
            "62/64 [============================>.] - ETA: 0s - loss: 4.0643 - sparse_categorical_accuracy: 0.1331"
          ]
        },
        {
          "output_type": "error",
          "ename": "KeyboardInterrupt",
          "evalue": "ignored",
          "traceback": [
            "\u001b[0;31m---------------------------------------------------------------------------\u001b[0m",
            "\u001b[0;31mKeyboardInterrupt\u001b[0m                         Traceback (most recent call last)",
            "\u001b[0;32m<ipython-input-10-4e2721883b8c>\u001b[0m in \u001b[0;36m<cell line: 2>\u001b[0;34m()\u001b[0m\n\u001b[1;32m      1\u001b[0m \u001b[0mmodel_\u001b[0m\u001b[0;34m.\u001b[0m\u001b[0mcompile\u001b[0m\u001b[0;34m(\u001b[0m\u001b[0moptimizer\u001b[0m\u001b[0;34m=\u001b[0m \u001b[0;34m\"adam\"\u001b[0m\u001b[0;34m,\u001b[0m \u001b[0mloss\u001b[0m\u001b[0;34m=\u001b[0m \u001b[0mtf\u001b[0m\u001b[0;34m.\u001b[0m\u001b[0mkeras\u001b[0m\u001b[0;34m.\u001b[0m\u001b[0mlosses\u001b[0m\u001b[0;34m.\u001b[0m\u001b[0mSparseCategoricalCrossentropy\u001b[0m\u001b[0;34m(\u001b[0m\u001b[0mfrom_logits\u001b[0m \u001b[0;34m=\u001b[0m \u001b[0;32mTrue\u001b[0m\u001b[0;34m)\u001b[0m\u001b[0;34m,\u001b[0m \u001b[0mmetrics\u001b[0m \u001b[0;34m=\u001b[0m \u001b[0mtf\u001b[0m\u001b[0;34m.\u001b[0m\u001b[0mkeras\u001b[0m\u001b[0;34m.\u001b[0m\u001b[0mmetrics\u001b[0m\u001b[0;34m.\u001b[0m\u001b[0mSparseCategoricalAccuracy\u001b[0m\u001b[0;34m(\u001b[0m\u001b[0;34m)\u001b[0m\u001b[0;34m)\u001b[0m\u001b[0;34m\u001b[0m\u001b[0;34m\u001b[0m\u001b[0m\n\u001b[0;32m----> 2\u001b[0;31m \u001b[0mmodel_\u001b[0m\u001b[0;34m.\u001b[0m\u001b[0mfit\u001b[0m\u001b[0;34m(\u001b[0m\u001b[0mds_train\u001b[0m\u001b[0;34m,\u001b[0m \u001b[0mepochs\u001b[0m \u001b[0;34m=\u001b[0m \u001b[0;36m10\u001b[0m\u001b[0;34m,\u001b[0m \u001b[0mvalidation_data\u001b[0m \u001b[0;34m=\u001b[0m \u001b[0mds_test\u001b[0m\u001b[0;34m)\u001b[0m\u001b[0;34m\u001b[0m\u001b[0;34m\u001b[0m\u001b[0m\n\u001b[0m",
            "\u001b[0;32m/usr/local/lib/python3.10/dist-packages/keras/utils/traceback_utils.py\u001b[0m in \u001b[0;36merror_handler\u001b[0;34m(*args, **kwargs)\u001b[0m\n\u001b[1;32m     63\u001b[0m         \u001b[0mfiltered_tb\u001b[0m \u001b[0;34m=\u001b[0m \u001b[0;32mNone\u001b[0m\u001b[0;34m\u001b[0m\u001b[0;34m\u001b[0m\u001b[0m\n\u001b[1;32m     64\u001b[0m         \u001b[0;32mtry\u001b[0m\u001b[0;34m:\u001b[0m\u001b[0;34m\u001b[0m\u001b[0;34m\u001b[0m\u001b[0m\n\u001b[0;32m---> 65\u001b[0;31m             \u001b[0;32mreturn\u001b[0m \u001b[0mfn\u001b[0m\u001b[0;34m(\u001b[0m\u001b[0;34m*\u001b[0m\u001b[0margs\u001b[0m\u001b[0;34m,\u001b[0m \u001b[0;34m**\u001b[0m\u001b[0mkwargs\u001b[0m\u001b[0;34m)\u001b[0m\u001b[0;34m\u001b[0m\u001b[0;34m\u001b[0m\u001b[0m\n\u001b[0m\u001b[1;32m     66\u001b[0m         \u001b[0;32mexcept\u001b[0m \u001b[0mException\u001b[0m \u001b[0;32mas\u001b[0m \u001b[0me\u001b[0m\u001b[0;34m:\u001b[0m\u001b[0;34m\u001b[0m\u001b[0;34m\u001b[0m\u001b[0m\n\u001b[1;32m     67\u001b[0m             \u001b[0mfiltered_tb\u001b[0m \u001b[0;34m=\u001b[0m \u001b[0m_process_traceback_frames\u001b[0m\u001b[0;34m(\u001b[0m\u001b[0me\u001b[0m\u001b[0;34m.\u001b[0m\u001b[0m__traceback__\u001b[0m\u001b[0;34m)\u001b[0m\u001b[0;34m\u001b[0m\u001b[0;34m\u001b[0m\u001b[0m\n",
            "\u001b[0;32m/usr/local/lib/python3.10/dist-packages/keras/engine/training.py\u001b[0m in \u001b[0;36mfit\u001b[0;34m(self, x, y, batch_size, epochs, verbose, callbacks, validation_split, validation_data, shuffle, class_weight, sample_weight, initial_epoch, steps_per_epoch, validation_steps, validation_batch_size, validation_freq, max_queue_size, workers, use_multiprocessing)\u001b[0m\n\u001b[1;32m   1727\u001b[0m                             \u001b[0msteps_per_execution\u001b[0m\u001b[0;34m=\u001b[0m\u001b[0mself\u001b[0m\u001b[0;34m.\u001b[0m\u001b[0m_steps_per_execution\u001b[0m\u001b[0;34m,\u001b[0m\u001b[0;34m\u001b[0m\u001b[0;34m\u001b[0m\u001b[0m\n\u001b[1;32m   1728\u001b[0m                         )\n\u001b[0;32m-> 1729\u001b[0;31m                     val_logs = self.evaluate(\n\u001b[0m\u001b[1;32m   1730\u001b[0m                         \u001b[0mx\u001b[0m\u001b[0;34m=\u001b[0m\u001b[0mval_x\u001b[0m\u001b[0;34m,\u001b[0m\u001b[0;34m\u001b[0m\u001b[0;34m\u001b[0m\u001b[0m\n\u001b[1;32m   1731\u001b[0m                         \u001b[0my\u001b[0m\u001b[0;34m=\u001b[0m\u001b[0mval_y\u001b[0m\u001b[0;34m,\u001b[0m\u001b[0;34m\u001b[0m\u001b[0;34m\u001b[0m\u001b[0m\n",
            "\u001b[0;32m/usr/local/lib/python3.10/dist-packages/keras/utils/traceback_utils.py\u001b[0m in \u001b[0;36merror_handler\u001b[0;34m(*args, **kwargs)\u001b[0m\n\u001b[1;32m     63\u001b[0m         \u001b[0mfiltered_tb\u001b[0m \u001b[0;34m=\u001b[0m \u001b[0;32mNone\u001b[0m\u001b[0;34m\u001b[0m\u001b[0;34m\u001b[0m\u001b[0m\n\u001b[1;32m     64\u001b[0m         \u001b[0;32mtry\u001b[0m\u001b[0;34m:\u001b[0m\u001b[0;34m\u001b[0m\u001b[0;34m\u001b[0m\u001b[0m\n\u001b[0;32m---> 65\u001b[0;31m             \u001b[0;32mreturn\u001b[0m \u001b[0mfn\u001b[0m\u001b[0;34m(\u001b[0m\u001b[0;34m*\u001b[0m\u001b[0margs\u001b[0m\u001b[0;34m,\u001b[0m \u001b[0;34m**\u001b[0m\u001b[0mkwargs\u001b[0m\u001b[0;34m)\u001b[0m\u001b[0;34m\u001b[0m\u001b[0;34m\u001b[0m\u001b[0m\n\u001b[0m\u001b[1;32m     66\u001b[0m         \u001b[0;32mexcept\u001b[0m \u001b[0mException\u001b[0m \u001b[0;32mas\u001b[0m \u001b[0me\u001b[0m\u001b[0;34m:\u001b[0m\u001b[0;34m\u001b[0m\u001b[0;34m\u001b[0m\u001b[0m\n\u001b[1;32m     67\u001b[0m             \u001b[0mfiltered_tb\u001b[0m \u001b[0;34m=\u001b[0m \u001b[0m_process_traceback_frames\u001b[0m\u001b[0;34m(\u001b[0m\u001b[0me\u001b[0m\u001b[0;34m.\u001b[0m\u001b[0m__traceback__\u001b[0m\u001b[0;34m)\u001b[0m\u001b[0;34m\u001b[0m\u001b[0;34m\u001b[0m\u001b[0m\n",
            "\u001b[0;32m/usr/local/lib/python3.10/dist-packages/keras/engine/training.py\u001b[0m in \u001b[0;36mevaluate\u001b[0;34m(self, x, y, batch_size, verbose, sample_weight, steps, callbacks, max_queue_size, workers, use_multiprocessing, return_dict, **kwargs)\u001b[0m\n\u001b[1;32m   2070\u001b[0m                         ):\n\u001b[1;32m   2071\u001b[0m                             \u001b[0mcallbacks\u001b[0m\u001b[0;34m.\u001b[0m\u001b[0mon_test_batch_begin\u001b[0m\u001b[0;34m(\u001b[0m\u001b[0mstep\u001b[0m\u001b[0;34m)\u001b[0m\u001b[0;34m\u001b[0m\u001b[0;34m\u001b[0m\u001b[0m\n\u001b[0;32m-> 2072\u001b[0;31m                             \u001b[0mtmp_logs\u001b[0m \u001b[0;34m=\u001b[0m \u001b[0mself\u001b[0m\u001b[0;34m.\u001b[0m\u001b[0mtest_function\u001b[0m\u001b[0;34m(\u001b[0m\u001b[0miterator\u001b[0m\u001b[0;34m)\u001b[0m\u001b[0;34m\u001b[0m\u001b[0;34m\u001b[0m\u001b[0m\n\u001b[0m\u001b[1;32m   2073\u001b[0m                             \u001b[0;32mif\u001b[0m \u001b[0mdata_handler\u001b[0m\u001b[0;34m.\u001b[0m\u001b[0mshould_sync\u001b[0m\u001b[0;34m:\u001b[0m\u001b[0;34m\u001b[0m\u001b[0;34m\u001b[0m\u001b[0m\n\u001b[1;32m   2074\u001b[0m                                 \u001b[0mcontext\u001b[0m\u001b[0;34m.\u001b[0m\u001b[0masync_wait\u001b[0m\u001b[0;34m(\u001b[0m\u001b[0;34m)\u001b[0m\u001b[0;34m\u001b[0m\u001b[0;34m\u001b[0m\u001b[0m\n",
            "\u001b[0;32m/usr/local/lib/python3.10/dist-packages/tensorflow/python/util/traceback_utils.py\u001b[0m in \u001b[0;36merror_handler\u001b[0;34m(*args, **kwargs)\u001b[0m\n\u001b[1;32m    148\u001b[0m     \u001b[0mfiltered_tb\u001b[0m \u001b[0;34m=\u001b[0m \u001b[0;32mNone\u001b[0m\u001b[0;34m\u001b[0m\u001b[0;34m\u001b[0m\u001b[0m\n\u001b[1;32m    149\u001b[0m     \u001b[0;32mtry\u001b[0m\u001b[0;34m:\u001b[0m\u001b[0;34m\u001b[0m\u001b[0;34m\u001b[0m\u001b[0m\n\u001b[0;32m--> 150\u001b[0;31m       \u001b[0;32mreturn\u001b[0m \u001b[0mfn\u001b[0m\u001b[0;34m(\u001b[0m\u001b[0;34m*\u001b[0m\u001b[0margs\u001b[0m\u001b[0;34m,\u001b[0m \u001b[0;34m**\u001b[0m\u001b[0mkwargs\u001b[0m\u001b[0;34m)\u001b[0m\u001b[0;34m\u001b[0m\u001b[0;34m\u001b[0m\u001b[0m\n\u001b[0m\u001b[1;32m    151\u001b[0m     \u001b[0;32mexcept\u001b[0m \u001b[0mException\u001b[0m \u001b[0;32mas\u001b[0m \u001b[0me\u001b[0m\u001b[0;34m:\u001b[0m\u001b[0;34m\u001b[0m\u001b[0;34m\u001b[0m\u001b[0m\n\u001b[1;32m    152\u001b[0m       \u001b[0mfiltered_tb\u001b[0m \u001b[0;34m=\u001b[0m \u001b[0m_process_traceback_frames\u001b[0m\u001b[0;34m(\u001b[0m\u001b[0me\u001b[0m\u001b[0;34m.\u001b[0m\u001b[0m__traceback__\u001b[0m\u001b[0;34m)\u001b[0m\u001b[0;34m\u001b[0m\u001b[0;34m\u001b[0m\u001b[0m\n",
            "\u001b[0;32m/usr/local/lib/python3.10/dist-packages/tensorflow/python/eager/polymorphic_function/polymorphic_function.py\u001b[0m in \u001b[0;36m__call__\u001b[0;34m(self, *args, **kwds)\u001b[0m\n\u001b[1;32m    892\u001b[0m \u001b[0;34m\u001b[0m\u001b[0m\n\u001b[1;32m    893\u001b[0m       \u001b[0;32mwith\u001b[0m \u001b[0mOptionalXlaContext\u001b[0m\u001b[0;34m(\u001b[0m\u001b[0mself\u001b[0m\u001b[0;34m.\u001b[0m\u001b[0m_jit_compile\u001b[0m\u001b[0;34m)\u001b[0m\u001b[0;34m:\u001b[0m\u001b[0;34m\u001b[0m\u001b[0;34m\u001b[0m\u001b[0m\n\u001b[0;32m--> 894\u001b[0;31m         \u001b[0mresult\u001b[0m \u001b[0;34m=\u001b[0m \u001b[0mself\u001b[0m\u001b[0;34m.\u001b[0m\u001b[0m_call\u001b[0m\u001b[0;34m(\u001b[0m\u001b[0;34m*\u001b[0m\u001b[0margs\u001b[0m\u001b[0;34m,\u001b[0m \u001b[0;34m**\u001b[0m\u001b[0mkwds\u001b[0m\u001b[0;34m)\u001b[0m\u001b[0;34m\u001b[0m\u001b[0;34m\u001b[0m\u001b[0m\n\u001b[0m\u001b[1;32m    895\u001b[0m \u001b[0;34m\u001b[0m\u001b[0m\n\u001b[1;32m    896\u001b[0m       \u001b[0mnew_tracing_count\u001b[0m \u001b[0;34m=\u001b[0m \u001b[0mself\u001b[0m\u001b[0;34m.\u001b[0m\u001b[0mexperimental_get_tracing_count\u001b[0m\u001b[0;34m(\u001b[0m\u001b[0;34m)\u001b[0m\u001b[0;34m\u001b[0m\u001b[0;34m\u001b[0m\u001b[0m\n",
            "\u001b[0;32m/usr/local/lib/python3.10/dist-packages/tensorflow/python/eager/polymorphic_function/polymorphic_function.py\u001b[0m in \u001b[0;36m_call\u001b[0;34m(self, *args, **kwds)\u001b[0m\n\u001b[1;32m    931\u001b[0m       \u001b[0;31m# In this case we have not created variables on the first call. So we can\u001b[0m\u001b[0;34m\u001b[0m\u001b[0;34m\u001b[0m\u001b[0m\n\u001b[1;32m    932\u001b[0m       \u001b[0;31m# run the first trace but we should fail if variables are created.\u001b[0m\u001b[0;34m\u001b[0m\u001b[0;34m\u001b[0m\u001b[0m\n\u001b[0;32m--> 933\u001b[0;31m       \u001b[0mresults\u001b[0m \u001b[0;34m=\u001b[0m \u001b[0mself\u001b[0m\u001b[0;34m.\u001b[0m\u001b[0m_variable_creation_fn\u001b[0m\u001b[0;34m(\u001b[0m\u001b[0;34m*\u001b[0m\u001b[0margs\u001b[0m\u001b[0;34m,\u001b[0m \u001b[0;34m**\u001b[0m\u001b[0mkwds\u001b[0m\u001b[0;34m)\u001b[0m\u001b[0;34m\u001b[0m\u001b[0;34m\u001b[0m\u001b[0m\n\u001b[0m\u001b[1;32m    934\u001b[0m       \u001b[0;32mif\u001b[0m \u001b[0mself\u001b[0m\u001b[0;34m.\u001b[0m\u001b[0m_created_variables\u001b[0m \u001b[0;32mand\u001b[0m \u001b[0;32mnot\u001b[0m \u001b[0mALLOW_DYNAMIC_VARIABLE_CREATION\u001b[0m\u001b[0;34m:\u001b[0m\u001b[0;34m\u001b[0m\u001b[0;34m\u001b[0m\u001b[0m\n\u001b[1;32m    935\u001b[0m         raise ValueError(\"Creating variables on a non-first call to a function\"\n",
            "\u001b[0;32m/usr/local/lib/python3.10/dist-packages/tensorflow/python/eager/polymorphic_function/tracing_compiler.py\u001b[0m in \u001b[0;36m__call__\u001b[0;34m(self, *args, **kwargs)\u001b[0m\n\u001b[1;32m    141\u001b[0m       (concrete_function,\n\u001b[1;32m    142\u001b[0m        filtered_flat_args) = self._maybe_define_function(args, kwargs)\n\u001b[0;32m--> 143\u001b[0;31m     return concrete_function._call_flat(\n\u001b[0m\u001b[1;32m    144\u001b[0m         filtered_flat_args, captured_inputs=concrete_function.captured_inputs)  # pylint: disable=protected-access\n\u001b[1;32m    145\u001b[0m \u001b[0;34m\u001b[0m\u001b[0m\n",
            "\u001b[0;32m/usr/local/lib/python3.10/dist-packages/tensorflow/python/eager/polymorphic_function/monomorphic_function.py\u001b[0m in \u001b[0;36m_call_flat\u001b[0;34m(self, args, captured_inputs, cancellation_manager)\u001b[0m\n\u001b[1;32m   1755\u001b[0m         and executing_eagerly):\n\u001b[1;32m   1756\u001b[0m       \u001b[0;31m# No tape is watching; skip to running the function.\u001b[0m\u001b[0;34m\u001b[0m\u001b[0;34m\u001b[0m\u001b[0m\n\u001b[0;32m-> 1757\u001b[0;31m       return self._build_call_outputs(self._inference_function.call(\n\u001b[0m\u001b[1;32m   1758\u001b[0m           ctx, args, cancellation_manager=cancellation_manager))\n\u001b[1;32m   1759\u001b[0m     forward_backward = self._select_forward_and_backward_functions(\n",
            "\u001b[0;32m/usr/local/lib/python3.10/dist-packages/tensorflow/python/eager/polymorphic_function/monomorphic_function.py\u001b[0m in \u001b[0;36mcall\u001b[0;34m(self, ctx, args, cancellation_manager)\u001b[0m\n\u001b[1;32m    379\u001b[0m       \u001b[0;32mwith\u001b[0m \u001b[0m_InterpolateFunctionError\u001b[0m\u001b[0;34m(\u001b[0m\u001b[0mself\u001b[0m\u001b[0;34m)\u001b[0m\u001b[0;34m:\u001b[0m\u001b[0;34m\u001b[0m\u001b[0;34m\u001b[0m\u001b[0m\n\u001b[1;32m    380\u001b[0m         \u001b[0;32mif\u001b[0m \u001b[0mcancellation_manager\u001b[0m \u001b[0;32mis\u001b[0m \u001b[0;32mNone\u001b[0m\u001b[0;34m:\u001b[0m\u001b[0;34m\u001b[0m\u001b[0;34m\u001b[0m\u001b[0m\n\u001b[0;32m--> 381\u001b[0;31m           outputs = execute.execute(\n\u001b[0m\u001b[1;32m    382\u001b[0m               \u001b[0mstr\u001b[0m\u001b[0;34m(\u001b[0m\u001b[0mself\u001b[0m\u001b[0;34m.\u001b[0m\u001b[0msignature\u001b[0m\u001b[0;34m.\u001b[0m\u001b[0mname\u001b[0m\u001b[0;34m)\u001b[0m\u001b[0;34m,\u001b[0m\u001b[0;34m\u001b[0m\u001b[0;34m\u001b[0m\u001b[0m\n\u001b[1;32m    383\u001b[0m               \u001b[0mnum_outputs\u001b[0m\u001b[0;34m=\u001b[0m\u001b[0mself\u001b[0m\u001b[0;34m.\u001b[0m\u001b[0m_num_outputs\u001b[0m\u001b[0;34m,\u001b[0m\u001b[0;34m\u001b[0m\u001b[0;34m\u001b[0m\u001b[0m\n",
            "\u001b[0;32m/usr/local/lib/python3.10/dist-packages/tensorflow/python/eager/execute.py\u001b[0m in \u001b[0;36mquick_execute\u001b[0;34m(op_name, num_outputs, inputs, attrs, ctx, name)\u001b[0m\n\u001b[1;32m     50\u001b[0m   \u001b[0;32mtry\u001b[0m\u001b[0;34m:\u001b[0m\u001b[0;34m\u001b[0m\u001b[0;34m\u001b[0m\u001b[0m\n\u001b[1;32m     51\u001b[0m     \u001b[0mctx\u001b[0m\u001b[0;34m.\u001b[0m\u001b[0mensure_initialized\u001b[0m\u001b[0;34m(\u001b[0m\u001b[0;34m)\u001b[0m\u001b[0;34m\u001b[0m\u001b[0;34m\u001b[0m\u001b[0m\n\u001b[0;32m---> 52\u001b[0;31m     tensors = pywrap_tfe.TFE_Py_Execute(ctx._handle, device_name, op_name,\n\u001b[0m\u001b[1;32m     53\u001b[0m                                         inputs, attrs, num_outputs)\n\u001b[1;32m     54\u001b[0m   \u001b[0;32mexcept\u001b[0m \u001b[0mcore\u001b[0m\u001b[0;34m.\u001b[0m\u001b[0m_NotOkStatusException\u001b[0m \u001b[0;32mas\u001b[0m \u001b[0me\u001b[0m\u001b[0;34m:\u001b[0m\u001b[0;34m\u001b[0m\u001b[0;34m\u001b[0m\u001b[0m\n",
            "\u001b[0;31mKeyboardInterrupt\u001b[0m: "
          ]
        }
      ]
    },
    {
      "cell_type": "code",
      "source": [
        "y_t_pred =model_.predict()"
      ],
      "metadata": {
        "id": "Lhin5lZeEVxb"
      },
      "execution_count": null,
      "outputs": []
    },
    {
      "cell_type": "markdown",
      "source": [],
      "metadata": {
        "id": "JYaTzB5yBcH_"
      }
    }
  ]
}