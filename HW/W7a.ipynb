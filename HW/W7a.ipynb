{
  "nbformat": 4,
  "nbformat_minor": 0,
  "metadata": {
    "colab": {
      "provenance": []
    },
    "kernelspec": {
      "name": "python3",
      "display_name": "Python 3"
    },
    "language_info": {
      "name": "python"
    },
    "accelerator": "GPU",
    "gpuClass": "standard"
  },
  "cells": [
    {
      "cell_type": "code",
      "execution_count": 23,
      "metadata": {
        "id": "_GAczIEXFl4y"
      },
      "outputs": [],
      "source": [
        "def download_data():  ### This dude will download the dataset from the directory directly!\\n\",\n",
        "  import requests\n",
        "  url = \"https://raw.githubusercontent.com/y-akbal/Some-Usefull-Machine-Learning-Stuff/main/HW/Lecture_Notes/compiled.txt\"\n",
        "  res = requests.get(url, allow_redirects=True)\n",
        "  with open('compiled.txt','wb') as file:\n",
        "    file.write(res.content)\n",
        "\n",
        "download_data()\n"
      ]
    },
    {
      "cell_type": "code",
      "source": [
        "import os\n",
        "os.listdir()"
      ],
      "metadata": {
        "colab": {
          "base_uri": "https://localhost:8080/"
        },
        "id": "kvkQcibAGI3L",
        "outputId": "b52cd334-311b-469b-ae99-6bb85f1ff2f8"
      },
      "execution_count": 24,
      "outputs": [
        {
          "output_type": "execute_result",
          "data": {
            "text/plain": [
              "['.config', 'compiled.txt', 'sample_data']"
            ]
          },
          "metadata": {},
          "execution_count": 24
        }
      ]
    },
    {
      "cell_type": "code",
      "source": [
        "with open('compiled.txt', encoding = \"utf-8\") as file:\n",
        "  str_ = file.read()"
      ],
      "metadata": {
        "id": "2jmBfhjnGLkZ"
      },
      "execution_count": 25,
      "outputs": []
    },
    {
      "cell_type": "code",
      "source": [
        "len(str_)"
      ],
      "metadata": {
        "colab": {
          "base_uri": "https://localhost:8080/"
        },
        "id": "of7Mh8HbGilm",
        "outputId": "1dfb2cc8-48d2-4005-efa8-be8699795cb1"
      },
      "execution_count": 26,
      "outputs": [
        {
          "output_type": "execute_result",
          "data": {
            "text/plain": [
              "16040557"
            ]
          },
          "metadata": {},
          "execution_count": 26
        }
      ]
    },
    {
      "cell_type": "code",
      "source": [
        "str_   ###This is our main text\n",
        "vocabulary = set(str_)\n",
        "vocab_size = len(vocabulary)"
      ],
      "metadata": {
        "id": "emAVKTmLGjHV"
      },
      "execution_count": 27,
      "outputs": []
    },
    {
      "cell_type": "code",
      "source": [
        "encode = {j:i for i, j in enumerate(vocabulary)}"
      ],
      "metadata": {
        "id": "d-Ql5BttTgs1"
      },
      "execution_count": 28,
      "outputs": []
    },
    {
      "cell_type": "code",
      "source": [
        "decode = {values:keys for keys, values in encode.items()}"
      ],
      "metadata": {
        "id": "ZZMNiBHPUGfF"
      },
      "execution_count": 29,
      "outputs": []
    },
    {
      "cell_type": "code",
      "source": [
        "def encoder_function(str_:str, encoder_dict = encode)->list:\n",
        "  L = []\n",
        "  for char in str_:\n",
        "    L.append(encoder_dict[char])\n",
        "  return L"
      ],
      "metadata": {
        "id": "45J3dRk0Tm5K"
      },
      "execution_count": 30,
      "outputs": []
    },
    {
      "cell_type": "code",
      "source": [
        "def decoder_function(list_, decoder_dict = decode)->str:\n",
        "  emp = \"\"\n",
        "  for num in list_:\n",
        "    emp = emp + decoder_dict[num]\n",
        "  return emp"
      ],
      "metadata": {
        "id": "q-Yt3tUyVC_E"
      },
      "execution_count": 31,
      "outputs": []
    },
    {
      "cell_type": "code",
      "source": [
        "def convert(str_)->list:\n",
        "  L = []\n",
        "  for char in str_:\n",
        "    L.append(encoder_function(char)[0])\n",
        "  return L"
      ],
      "metadata": {
        "id": "H2QuAuy5WScn"
      },
      "execution_count": 32,
      "outputs": []
    },
    {
      "cell_type": "code",
      "source": [
        "text_list = convert(str_)"
      ],
      "metadata": {
        "id": "N9gtSXz-VhYE"
      },
      "execution_count": 33,
      "outputs": []
    },
    {
      "cell_type": "code",
      "source": [
        "train_text_list = text_list[:-750]\n",
        "test_text_list = text_list[-750:]"
      ],
      "metadata": {
        "id": "5ya20lMoXANk"
      },
      "execution_count": 34,
      "outputs": []
    },
    {
      "cell_type": "code",
      "source": [
        "def split(X, window_size = 8):\n",
        "  N = len(X)\n",
        "  X_t = []\n",
        "  y_t = []\n",
        "  for i in range(N-window_size-1):\n",
        "    X_t.append(X[i:i+window_size])\n",
        "    y_t.append(X[i+window_size])\n",
        "  return X_t, y_t"
      ],
      "metadata": {
        "id": "ZBtrws19XNb4"
      },
      "execution_count": 35,
      "outputs": []
    },
    {
      "cell_type": "code",
      "source": [
        "X_train, y_train = split(train_text_list)"
      ],
      "metadata": {
        "id": "0sHssz4VXygo"
      },
      "execution_count": 36,
      "outputs": []
    },
    {
      "cell_type": "code",
      "source": [
        "X_test, y_test = split(test_text_list)"
      ],
      "metadata": {
        "id": "tf3ThSBqX2cD"
      },
      "execution_count": 37,
      "outputs": []
    },
    {
      "cell_type": "code",
      "source": [],
      "metadata": {
        "id": "5ZfYmVELX7eM"
      },
      "execution_count": 37,
      "outputs": []
    },
    {
      "cell_type": "code",
      "source": [
        "import tensorflow as tf\n",
        "from tensorflow.keras.layers import Dense, LSTM, Dropout, Bidirectional, Embedding\n",
        "from tensorflow.keras.activations import softmax\n",
        "import numpy as np\n",
        "from tensorflow.keras.models import Model, Sequential"
      ],
      "metadata": {
        "id": "huKHTNuzGJdH"
      },
      "execution_count": 38,
      "outputs": []
    },
    {
      "cell_type": "code",
      "source": [
        "mode"
      ],
      "metadata": {
        "id": "-ZrM37JpMZv8"
      },
      "execution_count": 51,
      "outputs": []
    },
    {
      "cell_type": "code",
      "source": [
        "model.compile(loss = \"sparse_categorical_crossentropy\", optimizer = tf.keras.optimizers.AdamW())"
      ],
      "metadata": {
        "id": "wQ1EPK0WSHQ_"
      },
      "execution_count": 52,
      "outputs": []
    },
    {
      "cell_type": "code",
      "source": [
        "model.fit(X_train, y_train, batch_size = 64, epochs = 35, validation_data=(X_test, y_test))"
      ],
      "metadata": {
        "id": "eFklmOOnYxav"
      },
      "execution_count": null,
      "outputs": []
    },
    {
      "cell_type": "code",
      "source": [],
      "metadata": {
        "id": "qcYHSLNQIKrv"
      },
      "execution_count": null,
      "outputs": []
    }
  ]
}