{
 "cells": [
  {
   "cell_type": "code",
   "execution_count": 17,
   "id": "9ab9a545",
   "metadata": {},
   "outputs": [],
   "source": [
    "import numpy as np"
   ]
  },
  {
   "cell_type": "code",
   "execution_count": null,
   "id": "9d2f6109",
   "metadata": {},
   "outputs": [],
   "source": [
    "def smooth(A:np.ndarray, smoothing_length:int = 20)->np.ndarray:  ###smoothing some outputs\n",
    "    K = []\n",
    "    N = len(A)\n",
    "    for i in range(5, N-5):\n",
    "        K.append(np.mean(A[i-5:i+5]))\n",
    "    return K"
   ]
  },
  {
   "cell_type": "code",
   "execution_count": 123,
   "id": "26647086",
   "metadata": {},
   "outputs": [],
   "source": [
    "import gymnasium as gy\n",
    "env = gym.make(\"FrozenLake-v1\", render_mode=\"human\")"
   ]
  },
  {
   "cell_type": "code",
   "execution_count": 410,
   "id": "5106db10",
   "metadata": {},
   "outputs": [],
   "source": [
    "class agent:\n",
    "    def __init__(self, env, α = 0.2, γ = 0.7, ϵ = 0.9):\n",
    "        self.env = env\n",
    "        self.Q = np.zeros((self.env.observation_space.n, self.env.action_space.n))\n",
    "        self.alpha = α\n",
    "        self.gamma = γ\n",
    "        self.epsilon = ϵ\n",
    "        self.current_state = 0\n",
    "        self.terminal_state = False\n",
    "        self.reward = 0\n",
    "        ## the following dude is for containing rewards to be used in episoded ##\n",
    "        self.counter = 0\n",
    "        self.container = []\n",
    "        self.container_ = []\n",
    "    def update(self, action, state, reward):\n",
    "        max_term = self.Q.max(-1)[state]\n",
    "        self.Q[self.current_state, action] += self.alpha*(reward + self.gamma*(max_term)\n",
    "                                                          -  self.Q[self.current_state, action])\n",
    "        self.current_state = state\n",
    "        self.reward += reward\n",
    "        self.counter += 1\n",
    "    def greedy_action(self, state):\n",
    "        return np.argmax(self.Q, axis = -1)[state]    \n",
    "    def take_action(self, state = None):\n",
    "        if state == None:\n",
    "            return env.action_space.sample()\n",
    "        choice = np.random.rand()\n",
    "        if choice < self.epsilon:\n",
    "            action = env.action_space.sample()\n",
    "        else:\n",
    "            action = self.greedy_action(state)\n",
    "        ## To be filleed###\n",
    "        return action\n",
    "    def reset(self):\n",
    "        self.container.append(self.reward)\n",
    "        self.container_.append(self.counter)\n",
    "        ## -- ##\n",
    "        self.counter = 0\n",
    "        self.reward = 0\n",
    "        self.current_state = 0\n"
   ]
  },
  {
   "cell_type": "code",
   "execution_count": 438,
   "id": "973747d2",
   "metadata": {},
   "outputs": [
    {
     "data": {
      "text/plain": [
       "(0, {'prob': 1})"
      ]
     },
     "execution_count": 438,
     "metadata": {},
     "output_type": "execute_result"
    }
   ],
   "source": [
    "env = gym.make(\"FrozenLake-v1\",)\n",
    "agent_ = agent(env, ϵ = 0.5, γ = 0.6, α = 0.8)\n",
    "env.reset()"
   ]
  },
  {
   "cell_type": "code",
   "execution_count": null,
   "id": "771a3045",
   "metadata": {},
   "outputs": [
    {
     "name": "stderr",
     "output_type": "stream",
     "text": [
      " 29%|█████████████████████                                                   | 292975/1000000 [04:00<26:10, 450.15it/s]"
     ]
    }
   ],
   "source": [
    "### One episode\n",
    "from tqdm import tqdm\n",
    "for i in tqdm(range(1000000)):\n",
    "    while True:\n",
    "        action = agent_.take_action(agent_.current_state)\n",
    "        next_state, reward, terminated, truncated, info = env.step(action)\n",
    "        if next_state in [5, 7, 11, 12]:\n",
    "            reward = -100\n",
    "        elif next_state == 15:\n",
    "            reward = 500\n",
    "        else:\n",
    "            reward = 1\n",
    "        agent_.update(action, next_state, reward)\n",
    "\n",
    "        if terminated or truncated:\n",
    "            agent_.reset()\n",
    "            observation, info = env.reset()\n",
    "            break\n",
    "        if i % 20 == 0:\n",
    "            agent_.epsilon /= 1.00001\n",
    "        "
   ]
  },
  {
   "cell_type": "code",
   "execution_count": 430,
   "id": "7a14542f",
   "metadata": {},
   "outputs": [
    {
     "data": {
      "text/plain": [
       "array([[ 34.97 ,  34.47 ,  35.8  ,  35.97 ],\n",
       "       [-99.8  ,  19.5  ,  22.8  ,  34.2  ],\n",
       "       [-37.38 ,  24.39 ,  12.375,  24.52 ],\n",
       "       [ 21.67 , -75.56 , -76.06 ,  20.75 ],\n",
       "       [ 34.16 , -92.44 , -94.94 , -94.8  ],\n",
       "       [  0.   ,   0.   ,   0.   ,   0.   ],\n",
       "       [-66.4  , -69.75 , -91.4  , -96.2  ],\n",
       "       [  0.   ,   0.   ,   0.   ,   0.   ],\n",
       "       [-68.   ,  23.86 , -70.9  ,  37.56 ],\n",
       "       [150.4  ,  52.12 , -62.88 , -65.7  ],\n",
       "       [ 61.56 , -40.12 , -96.56 ,  64.06 ],\n",
       "       [  0.   ,   0.   ,   0.   ,   0.   ],\n",
       "       [  0.   ,   0.   ,   0.   ,   0.   ],\n",
       "       [-44.8  , -20.7  , 157.   , -15.94 ],\n",
       "       [ 69.4  , 228.1  , 204.8  , 209.6  ],\n",
       "       [  0.   ,   0.   ,   0.   ,   0.   ]], dtype=float16)"
      ]
     },
     "execution_count": 430,
     "metadata": {},
     "output_type": "execute_result"
    }
   ],
   "source": [
    "np.array(agent_.Q, dtype = np.float16) ## This dude is the Q function"
   ]
  },
  {
   "cell_type": "code",
   "execution_count": 437,
   "id": "a05dad46",
   "metadata": {},
   "outputs": [
    {
     "data": {
      "text/plain": [
       "[<matplotlib.lines.Line2D at 0x2d6c06ba170>]"
      ]
     },
     "execution_count": 437,
     "metadata": {},
     "output_type": "execute_result"
    },
    {
     "data": {
      "image/png": "[encoded data removed]",
      "text/plain": [
       "<Figure size 640x480 with 1 Axes>"
      ]
     },
     "metadata": {},
     "output_type": "display_data"
    }
   ],
   "source": [
    "from matplotlib import pyplot as plt\n",
    "plt.plot(smooth(agent_.container_, 20)) ## Our yerli ve milli agent seems pretty cumbersome ha?"
   ]
  },
  {
   "cell_type": "code",
   "execution_count": 434,
   "id": "d0f8e71b",
   "metadata": {},
   "outputs": [],
   "source": []
  },
  {
   "cell_type": "code",
   "execution_count": null,
   "id": "2c922051",
   "metadata": {},
   "outputs": [],
   "source": []
  },
  {
   "cell_type": "code",
   "execution_count": null,
   "id": "49506fcd",
   "metadata": {},
   "outputs": [],
   "source": []
  },
  {
   "cell_type": "code",
   "execution_count": null,
   "id": "4e18d5a5",
   "metadata": {},
   "outputs": [],
   "source": []
  },
  {
   "cell_type": "code",
   "execution_count": null,
   "id": "9f519830",
   "metadata": {},
   "outputs": [],
   "source": []
  }
 ],
 "metadata": {
  "kernelspec": {
   "display_name": "Python 3 (ipykernel)",
   "language": "python",
   "name": "python3"
  },
  "language_info": {
   "codemirror_mode": {
    "name": "ipython",
    "version": 3
   },
   "file_extension": ".py",
   "mimetype": "text/x-python",
   "name": "python",
   "nbconvert_exporter": "python",
   "pygments_lexer": "ipython3",
   "version": "3.10.9"
  }
 },
 "nbformat": 4,
 "nbformat_minor": 5
}
