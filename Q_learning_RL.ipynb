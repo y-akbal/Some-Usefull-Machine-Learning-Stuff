{
 "cells": [
  {
   "cell_type": "code",
   "execution_count": 17,
   "id": "8224825f",
   "metadata": {},
   "outputs": [],
   "source": [
    "import numpy as np"
   ]
  },
  {
   "cell_type": "code",
   "execution_count": null,
   "id": "cdbf5549",
   "metadata": {},
   "outputs": [],
   "source": [
    "def smooth(A:np.ndarray, smoothing_length:int = 20)->np.ndarray:  ###smoothing some outputs\n",
    "    K = []\n",
    "    N = len(A)\n",
    "    for i in range(5, N-5):\n",
    "        K.append(np.mean(A[i-5:i+5]))\n",
    "    return K"
   ]
  },
  {
   "cell_type": "code",
   "execution_count": 123,
   "id": "cccce319",
   "metadata": {},
   "outputs": [],
   "source": [
    "import gymnasium as gy\n",
    "env = gym.make(\"FrozenLake-v1\", render_mode=\"human\")"
   ]
  },
  {
   "cell_type": "code",
   "execution_count": 410,
   "id": "9f72d285",
   "metadata": {},
   "outputs": [],
   "source": [
    "class agent:\n",
    "    def __init__(self, env, α = 0.2, γ = 0.7, ϵ = 0.9):\n",
    "        self.env = env\n",
    "        self.Q = np.zeros((self.env.observation_space.n, self.env.action_space.n))\n",
    "        self.alpha = α\n",
    "        self.gamma = γ\n",
    "        self.epsilon = ϵ\n",
    "        self.current_state = 0\n",
    "        self.reward = 0\n",
    "        ## the following dude is for containing rewards to be used in episoded ##\n",
    "        self.counter = 0\n",
    "        self.container = []\n",
    "        self.container_ = []\n",
    "    def update(self, action, state, reward):\n",
    "        max_term = self.Q.max(-1)[state]\n",
    "        self.Q[self.current_state, action] += self.alpha*(reward + self.gamma*(max_term)\n",
    "                                                          -  self.Q[self.current_state, action])\n",
    "        self.current_state = state\n",
    "        self.reward += reward\n",
    "        self.counter += 1\n",
    "    def greedy_action(self, state):\n",
    "        return np.argmax(self.Q, axis = -1)[state]    \n",
    "    def take_action(self, state = None):\n",
    "        if state == None:\n",
    "            return env.action_space.sample()\n",
    "        choice = np.random.rand()\n",
    "        if choice < self.epsilon:\n",
    "            action = env.action_space.sample()\n",
    "        else:\n",
    "            action = self.greedy_action(state)\n",
    "        ## To be filleed###\n",
    "        return action\n",
    "    def reset(self):\n",
    "        self.container.append(self.reward)\n",
    "        self.container_.append(self.counter)\n",
    "        ## -- ##\n",
    "        self.counter = 0\n",
    "        self.reward = 0\n",
    "        self.current_state = 0\n"
   ]
  },
  {
   "cell_type": "code",
   "execution_count": 446,
   "id": "5e16c174",
   "metadata": {},
   "outputs": [
    {
     "data": {
      "text/plain": [
       "(0, {'prob': 1})"
      ]
     },
     "execution_count": 446,
     "metadata": {},
     "output_type": "execute_result"
    }
   ],
   "source": [
    "env = gym.make(\"FrozenLake-v1\",)\n",
    "agent_ = agent(env, ϵ = 0.8, γ = 0.6, α = 0.8)\n",
    "env.reset()"
   ]
  },
  {
   "cell_type": "code",
   "execution_count": 455,
   "id": "0cf7abe7",
   "metadata": {},
   "outputs": [
    {
     "name": "stderr",
     "output_type": "stream",
     "text": [
      "100%|█████████████████████████████████████████████████████████████████████████| 100000/100000 [01:57<00:00, 850.45it/s]\n"
     ]
    }
   ],
   "source": [
    "### One episode\n",
    "from tqdm import tqdm\n",
    "for i in tqdm(range(100000)):\n",
    "    while True:\n",
    "        action = agent_.take_action(agent_.current_state)\n",
    "        next_state, reward, terminated, truncated, info = env.step(action)\n",
    "        if next_state in [5, 7, 11, 12]:\n",
    "            reward = -100\n",
    "        elif next_state == 15:\n",
    "            reward = 500\n",
    "        else:\n",
    "            reward = 1\n",
    "        agent_.update(action, next_state, reward)\n",
    "\n",
    "        if terminated or truncated:\n",
    "            agent_.reset()\n",
    "            observation, info = env.reset()\n",
    "            break\n",
    "        if i % 20 == 0:\n",
    "            agent_.epsilon /= 1.00001\n",
    "        if agent_.epsilon < 1e-100:\n",
    "            break"
   ]
  },
  {
   "cell_type": "code",
   "execution_count": 456,
   "id": "10faf543",
   "metadata": {},
   "outputs": [
    {
     "data": {
      "text/plain": [
       "array([[   2.5   ,    2.5   ,    2.488 ,    2.5   ],\n",
       "       [ -96.56  ,   -0.7803,  -79.5   ,    2.5   ],\n",
       "       [   2.5   ,  -17.17  ,    2.438 ,    2.5   ],\n",
       "       [ -80.3   ,    1.844 ,    2.5   ,    2.5   ],\n",
       "       [   2.268 ,  -82.5   ,  -14.66  ,  -83.44  ],\n",
       "       [   0.    ,    0.    ,    0.    ,    0.    ],\n",
       "       [ -99.8   , -100.    ,  -29.55  , -100.    ],\n",
       "       [   0.    ,    0.    ,    0.    ,    0.    ],\n",
       "       [ -16.84  ,  -95.94  ,  -79.3   ,   -8.27  ],\n",
       "       [ -75.9   ,  -23.53  ,  -40.22  ,  -82.7   ],\n",
       "       [ 221.4   ,  -80.6   ,  -56.28  ,  -79.9   ],\n",
       "       [   0.    ,    0.    ,    0.    ,    0.    ],\n",
       "       [   0.    ,    0.    ,    0.    ,    0.    ],\n",
       "       [ -99.8   ,  -38.28  ,    7.785 ,  -91.75  ],\n",
       "       [  49.12  ,   19.17  ,  496.5   ,   -8.17  ],\n",
       "       [   0.    ,    0.    ,    0.    ,    0.    ]], dtype=float16)"
      ]
     },
     "execution_count": 456,
     "metadata": {},
     "output_type": "execute_result"
    }
   ],
   "source": [
    "np.array(agent_.Q, dtype = np.float16) ## This dude is the Q function"
   ]
  },
  {
   "cell_type": "code",
   "execution_count": 459,
   "id": "1cca2707",
   "metadata": {},
   "outputs": [
    {
     "data": {
      "image/png": "[encoded data removed]",
      "text/plain": [
       "<Figure size 640x480 with 1 Axes>"
      ]
     },
     "metadata": {},
     "output_type": "display_data"
    }
   ],
   "source": [
    "from matplotlib import pyplot as plt\n",
    "plt.plot(smooth(np.cumsum(agent_.container), 10), label = \"Smoothed average reward per episode\") \n",
    "## Our yerli ve milli agent seems pretty cumbersome ha?\n",
    "plt.legend()\n",
    "plt.show()"
   ]
  },
  {
   "cell_type": "code",
   "execution_count": 434,
   "id": "835c9403",
   "metadata": {},
   "outputs": [],
   "source": []
  },
  {
   "cell_type": "code",
   "execution_count": null,
   "id": "22c2aaa4",
   "metadata": {},
   "outputs": [],
   "source": []
  },
  {
   "cell_type": "code",
   "execution_count": null,
   "id": "62767e5d",
   "metadata": {},
   "outputs": [],
   "source": []
  },
  {
   "cell_type": "code",
   "execution_count": null,
   "id": "de2983cb",
   "metadata": {},
   "outputs": [],
   "source": []
  },
  {
   "cell_type": "code",
   "execution_count": null,
   "id": "dfe6671e",
   "metadata": {},
   "outputs": [],
   "source": []
  }
 ],
 "metadata": {
  "kernelspec": {
   "display_name": "Python 3 (ipykernel)",
   "language": "python",
   "name": "python3"
  },
  "language_info": {
   "codemirror_mode": {
    "name": "ipython",
    "version": 3
   },
   "file_extension": ".py",
   "mimetype": "text/x-python",
   "name": "python",
   "nbconvert_exporter": "python",
   "pygments_lexer": "ipython3",
   "version": "3.10.9"
  }
 },
 "nbformat": 4,
 "nbformat_minor": 5
}
