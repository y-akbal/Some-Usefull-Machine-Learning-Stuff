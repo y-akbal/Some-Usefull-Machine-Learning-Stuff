{
 "cells": [
  {
   "cell_type": "code",
   "execution_count": 1,
   "id": "96baee9f",
   "metadata": {},
   "outputs": [],
   "source": [
    "import gymnasium as gym\n",
    "import numpy as np\n",
    "import torch\n",
    "from torch import nn as nn\n",
    "from torch.nn import functional as F\n",
    "from torch.utils.data import DataLoader\n",
    "from torch.distributions import Categorical\n",
    "from tqdm import tqdm\n",
    "from torch.optim import Adam\n",
    "import time"
   ]
  },
  {
   "cell_type": "code",
   "execution_count": 2,
   "id": "584d35fd",
   "metadata": {},
   "outputs": [],
   "source": [
    "class replay_buffer:\n",
    "    ## THis replay buffer is not perfectly coded but at least we do not use cumbersome datastructures....\n",
    "    ##At least I tried, in the end I did (Arthur Morgar RIP)\n",
    "    def __init__(self, capacity:int = 1000):\n",
    "        self.capacity = capacity\n",
    "        self.sinit()\n",
    "        self.enumerate = [i for i in range(capacity)]\n",
    "        self.first_sweep = False\n",
    "        self.counter = 0\n",
    "        \n",
    "        \n",
    "    def reset(self)->None:\n",
    "        self.sinit()\n",
    "        \n",
    "    def append(self, state, action, next_state, reward, terminated, truncated)->None:\n",
    "        ## zero counter if there is no room\n",
    "        if self.counter >= self.capacity:\n",
    "            self.first_sweep = True\n",
    "            self.counter = 0\n",
    "        self.state[self.counter] = state\n",
    "        self.next_state[self.counter] = next_state\n",
    "        self.reward[self.counter] = reward\n",
    "        self.action[self.counter] = action\n",
    "        self.terminated[self.counter] = terminated\n",
    "        self.truncated[self.counter] = truncated\n",
    "        \n",
    "        \n",
    "        ## update counter\n",
    "        self.counter += 1\n",
    "\n",
    "    def sinit(self)->None:\n",
    "        self.state = np.empty((self.capacity, 8), dtype = np.float32)\n",
    "        self.action = np.empty(self.capacity, dtype = np.float32)\n",
    "        self.next_state = np.empty((self.capacity, 8), dtype = np.float32)\n",
    "        self.reward = np.empty(self.capacity, dtype = np.float32)\n",
    "        self.terminated = np.empty(self.capacity, dtype = np.bool_)\n",
    "        self.truncated = np.empty(self.capacity, dtype = np.bool_)\n",
    "    \n",
    "    \n",
    "    def sample_batch(self, size:int = 100, p: np.ndarray = None)->tuple[np.ndarray]:       \n",
    "        \n",
    "        if not self.first_sweep:\n",
    "            indexes = np.random.choice([i for i in range(self.counter)], size = min(self.counter, size), p = p)\n",
    "        else:\n",
    "            size = min(self.counter, size)\n",
    "            indexes = np.random.choice(self.enumerate, size = size, p = p, replace = False)\n",
    "            \n",
    "        return map(lambda x: x[indexes], [self.state, \n",
    "                                          self.action, \n",
    "                                          self.next_state, \n",
    "                                          self.reward, \n",
    "                                          self.terminated, \n",
    "                                          self.truncated])"
   ]
  },
  {
   "cell_type": "code",
   "execution_count": 3,
   "id": "3ac9dc9a",
   "metadata": {},
   "outputs": [],
   "source": [
    "buffer = replay_buffer(12)\n"
   ]
  },
  {
   "cell_type": "code",
   "execution_count": 4,
   "id": "e772044c",
   "metadata": {},
   "outputs": [],
   "source": [
    "env = gym.make(\"LunarLander-v2\")\n",
    "last_state, info = env.reset()\n",
    "for c in range(1):        \n",
    "    action = env.action_space.sample()  # agent policy that uses the observation and info\n",
    "    current_state, reward, terminated, truncated, info = env.step(action)\n",
    "    \n",
    "    buffer.append(last_state, action,current_state, reward, terminated, truncated)\n",
    "    \n",
    "    last_state = current_state\n",
    "    if terminated or truncated:\n",
    "        observation, info = env.reset()\n",
    "        break\n",
    "env.close()"
   ]
  },
  {
   "cell_type": "code",
   "execution_count": 5,
   "id": "64fd9c63",
   "metadata": {},
   "outputs": [
    {
     "data": {
      "text/plain": [
       "[array([[ 0.00541248,  1.4216651 ,  0.5482157 ,  0.47754332, -0.00626497,\n",
       "         -0.12417903,  0.        ,  0.        ]], dtype=float32),\n",
       " array([1.], dtype=float32),\n",
       " array([[ 0.01074839,  1.4318396 ,  0.53783   ,  0.45217302, -0.01046599,\n",
       "         -0.08402709,  0.        ,  0.        ]], dtype=float32),\n",
       " array([0.96818084], dtype=float32),\n",
       " array([False]),\n",
       " array([False])]"
      ]
     },
     "execution_count": 5,
     "metadata": {},
     "output_type": "execute_result"
    }
   ],
   "source": [
    "list(buffer.sample_batch(12))"
   ]
  },
  {
   "cell_type": "code",
   "execution_count": 60,
   "id": "b61e70bf",
   "metadata": {},
   "outputs": [],
   "source": [
    "Q = nn.Sequential(*[nn.Linear(8, 30), \n",
    "                          nn.ReLU(),\n",
    "                          nn.Linear(30, 40),\n",
    "                          nn.ReLU(),\n",
    "                          nn.Linear(40, 4),\n",
    "                         ]); ### This dude is the Q function\n",
    "Q_old = nn.Sequential(*[nn.Linear(8, 30), \n",
    "                          nn.ReLU(),\n",
    "                          nn.Linear(30, 40),\n",
    "                          nn.ReLU(),\n",
    "                          nn.Linear(40, 4),\n",
    "                         ])\n",
    "#Q_old.load_state_dict(Q.state_dict())\n",
    "\n",
    "@torch.no_grad  ## This prick is \n",
    "def choose_action(state:np.ndarray, \n",
    "                  network:nn.Module = Q, \n",
    "                 )->torch.tensor:\n",
    "    softmaxed_logits = torch.softmax(network(torch.tensor(state, dtype = torch.float32)), -1)\n",
    "    probs = Categorical(softmaxed_logits).sample()\n",
    "    return probs, softmaxed_logits\n",
    "\n",
    "opt = Adam(Q.parameters(), 0.0001)\n",
    "\n",
    "@torch.no_grad\n",
    "def update(Q, Q_old, α = 0.1):\n",
    "    for param_Q, param_Q_old in zip(Q.parameters(), Q_old.parameters()):\n",
    "        param_Q_old += α*(param_Q-param_Q_old)        "
   ]
  },
  {
   "cell_type": "code",
   "execution_count": null,
   "id": "ed3f6351",
   "metadata": {},
   "outputs": [],
   "source": [
    "env = gym.make(\"LunarLander-v2\", gravity = -10.0, enable_wind = True, wind_power = 2.0)\n",
    "γ = 0.99\n",
    "ϵ = 1.0\n",
    "bufffer = replay_buffer(500)\n",
    "\n",
    "for episode in range(100):\n",
    "    for i in range(500):\n",
    "        last_state, info = env.reset()\n",
    "        if np.random.rand() < ϵ:\n",
    "            action = env.action_space.sample()  # agent policy that uses the observation and info\n",
    "        else:\n",
    "            action = choose_action(state, Q)[1].argmax(-1)\n",
    "        \n",
    "        current_state, reward, terminated, truncated, info = env.step(action)\n",
    "        \n",
    "        buffer.append(last_state, action,current_state, reward, terminated, truncated)\n",
    "    \n",
    "        last_state = current_state\n",
    "        if terminated or truncated:\n",
    "            observation, info = env.reset()\n",
    "            break\n",
    "    \n",
    "    \n",
    "    Q.train()\n",
    "    \n",
    "    last_state, action, current_state, reward, terminated, truncated = map(lambda x: torch.tensor(x), buffer.sample_batch())\n",
    "    a = action.type(torch.int64).view(-1,1)\n",
    "    \n",
    "    with torch.no_grad():\n",
    "        ## Expected sarsa we are doing here!!!!\n",
    "        δ = reward + γ*Q(current_state).sum(-1) - Q(last_state).gather(1, a).squeeze()\n",
    "   \n",
    "    opt.zero_grad()\n",
    "    z = -(δ*Q(last_state).gather(1, a.view(-1,1)).squeeze()).mean()\n",
    "    z.backward()\n",
    "    opt.step()\n",
    "    \n",
    "env.close()"
   ]
  },
  {
   "cell_type": "code",
   "execution_count": 167,
   "id": "9adb9320",
   "metadata": {},
   "outputs": [
    {
     "data": {
      "text/plain": [
       "tensor([-2.1016,  1.1820, -0.5692, -0.6592,  1.6953, -1.1574, -0.1033,  1.4921,\n",
       "         1.8541,  1.1409, -0.2021,  0.5473, -0.4492, -0.7725,  0.8743,  3.1802,\n",
       "        -1.0086, -0.2363, -0.7280, -1.7955, -0.7666,  2.0229,  0.6971,  1.1348,\n",
       "        -1.4442,  2.3100, -1.5723,  0.7536, -0.0071, -1.0084, -1.1785,  0.8058,\n",
       "         0.6103,  0.2739,  0.9578,  0.3190, -2.1301, -0.5136, -1.8049,  0.2209,\n",
       "         1.8965,  0.5006, -0.5110, -0.7480, -2.2743, -0.3446,  1.7309, -0.6535,\n",
       "        -0.6925,  1.3568, -1.0375, -0.7797, -0.3376, -2.3396, -1.3348, -0.8158,\n",
       "         0.2799, -1.8082, -0.1655, -0.3283,  1.6900, -0.2066,  0.7492,  0.8915,\n",
       "        -2.2338, -1.0990, -1.8253,  1.1800, -1.2056,  2.0417,  1.4084, -1.8981,\n",
       "        -0.8031,  2.2201,  0.1238, -2.7828,  0.7061,  1.1450, -1.2661,  2.0768,\n",
       "         0.6264, -2.3518, -1.4413,  1.0995, -0.4824, -0.3461,  1.4822,  0.1599,\n",
       "        -0.6650, -2.2657,  0.7135,  2.2848, -0.9981, -1.0444, -1.5347, -0.0073,\n",
       "        -0.2164, -1.7795,  0.2524, -0.2924])"
      ]
     },
     "execution_count": 167,
     "metadata": {},
     "output_type": "execute_result"
    }
   ],
   "source": [
    "δ"
   ]
  }
 ],
 "metadata": {
  "kernelspec": {
   "display_name": "Python 3 (ipykernel)",
   "language": "python",
   "name": "python3"
  },
  "language_info": {
   "codemirror_mode": {
    "name": "ipython",
    "version": 3
   },
   "file_extension": ".py",
   "mimetype": "text/x-python",
   "name": "python",
   "nbconvert_exporter": "python",
   "pygments_lexer": "ipython3",
   "version": "3.10.12"
  }
 },
 "nbformat": 4,
 "nbformat_minor": 5
}
