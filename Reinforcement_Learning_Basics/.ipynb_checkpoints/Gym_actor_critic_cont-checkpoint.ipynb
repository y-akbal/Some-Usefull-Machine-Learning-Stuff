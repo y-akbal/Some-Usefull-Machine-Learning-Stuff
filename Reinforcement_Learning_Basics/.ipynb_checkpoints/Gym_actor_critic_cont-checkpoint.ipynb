{
 "cells": [
  {
   "cell_type": "code",
   "execution_count": 5,
   "id": "36ef42a2",
   "metadata": {},
   "outputs": [],
   "source": [
    "import gymnasium as gym\n",
    "import numpy as np\n",
    "import torch\n",
    "from torch import nn as nn\n",
    "from torch.nn import functional as F\n",
    "from torch.utils.data import DataLoader\n",
    "from torch.distributions import Categorical, Normal\n",
    "from tqdm import tqdm\n",
    "from torch.optim import Adam"
   ]
  },
  {
   "cell_type": "code",
   "execution_count": 6,
   "id": "48ea48e3",
   "metadata": {},
   "outputs": [],
   "source": [
    "class network_(nn.Module):\n",
    "    def __init__(self):\n",
    "        super().__init__()\n",
    "        self.base = nn.Sequential(*[nn.Linear(2, 60), \n",
    "                                    nn.ReLU(),\n",
    "                        nn.Linear(60, 30),\n",
    "                        nn.ReLU(),\n",
    "                         ]);\n",
    "        \n",
    "        self.μ = nn.Linear(30, 1)\n",
    "        self.σ = nn.Linear(30, 1)\n",
    "    \n",
    "    def forward(self, x):\n",
    "        base_ = self.base(x)\n",
    "        return self.μ(base_), 1+torch.exp(self.σ(base_) )\n",
    "\n",
    "state_value = nn.Sequential(*[nn.Linear(2, 30), \n",
    "                           nn.ReLU(),\n",
    "                          nn.Linear(30, 30),\n",
    "                          nn.ReLU(),\n",
    "                          nn.Linear(30, 1)\n",
    "                             ]) ### This dude is the state value\n",
    "network = network_()"
   ]
  },
  {
   "cell_type": "code",
   "execution_count": 7,
   "id": "1a1e55d3",
   "metadata": {},
   "outputs": [],
   "source": [
    "@torch.no_grad\n",
    "def choose_action(state:np.ndarray, network:nn.Module = network)->int:\n",
    "    mean, std = network(torch.tensor(state, dtype = torch.float32))\n",
    "    action = Normal(loc = mean, scale = std).sample()\n",
    "    return np.array(action)"
   ]
  },
  {
   "cell_type": "code",
   "execution_count": 8,
   "id": "9882359b",
   "metadata": {
    "scrolled": false
   },
   "outputs": [
    {
     "name": "stderr",
     "output_type": "stream",
     "text": [
      "(-0.44669853957615524, 2.7269091606140137):   1%|▍                                   | 6/500 [00:48<1:06:17,  8.05s/it]\n"
     ]
    },
    {
     "ename": "KeyboardInterrupt",
     "evalue": "",
     "output_type": "error",
     "traceback": [
      "\u001b[1;31m---------------------------------------------------------------------------\u001b[0m",
      "\u001b[1;31mKeyboardInterrupt\u001b[0m                         Traceback (most recent call last)",
      "Cell \u001b[1;32mIn[8], line 33\u001b[0m\n\u001b[0;32m     30\u001b[0m     \u001b[38;5;28;01melse\u001b[39;00m:\n\u001b[0;32m     31\u001b[0m         δ \u001b[38;5;241m=\u001b[39m reward \u001b[38;5;241m+\u001b[39m γ\u001b[38;5;241m*\u001b[39mstate_value(torch\u001b[38;5;241m.\u001b[39mtensor(current_state)) \u001b[38;5;241m-\u001b[39m state_value(torch\u001b[38;5;241m.\u001b[39mtensor(last_state))\n\u001b[1;32m---> 33\u001b[0m \u001b[43mopt1\u001b[49m\u001b[38;5;241;43m.\u001b[39;49m\u001b[43mzero_grad\u001b[49m\u001b[43m(\u001b[49m\u001b[43m)\u001b[49m\n\u001b[0;32m     34\u001b[0m opt2\u001b[38;5;241m.\u001b[39mzero_grad()\n\u001b[0;32m     36\u001b[0m cum_reward \u001b[38;5;241m=\u001b[39m (\u001b[38;5;241m0.9\u001b[39m)\u001b[38;5;241m*\u001b[39mcum_reward\u001b[38;5;241m+\u001b[39m(\u001b[38;5;241m0.1\u001b[39m)\u001b[38;5;241m*\u001b[39m(reward)\n",
      "File \u001b[1;32mC:\\ProgramData\\Anaconda3\\lib\\site-packages\\torch\\_compile.py:24\u001b[0m, in \u001b[0;36m_disable_dynamo.<locals>.inner\u001b[1;34m(*args, **kwargs)\u001b[0m\n\u001b[0;32m     20\u001b[0m \u001b[38;5;129m@functools\u001b[39m\u001b[38;5;241m.\u001b[39mwraps(fn)\n\u001b[0;32m     21\u001b[0m \u001b[38;5;28;01mdef\u001b[39;00m \u001b[38;5;21minner\u001b[39m(\u001b[38;5;241m*\u001b[39margs, \u001b[38;5;241m*\u001b[39m\u001b[38;5;241m*\u001b[39mkwargs):\n\u001b[0;32m     22\u001b[0m     \u001b[38;5;28;01mimport\u001b[39;00m \u001b[38;5;21;01mtorch\u001b[39;00m\u001b[38;5;21;01m.\u001b[39;00m\u001b[38;5;21;01m_dynamo\u001b[39;00m\n\u001b[1;32m---> 24\u001b[0m     \u001b[38;5;28;01mreturn\u001b[39;00m torch\u001b[38;5;241m.\u001b[39m_dynamo\u001b[38;5;241m.\u001b[39mdisable(fn, recursive)(\u001b[38;5;241m*\u001b[39margs, \u001b[38;5;241m*\u001b[39m\u001b[38;5;241m*\u001b[39mkwargs)\n",
      "File \u001b[1;32mC:\\ProgramData\\Anaconda3\\lib\\site-packages\\torch\\_dynamo\\eval_frame.py:328\u001b[0m, in \u001b[0;36m_TorchDynamoContext.__call__.<locals>._fn\u001b[1;34m(*args, **kwargs)\u001b[0m\n\u001b[0;32m    326\u001b[0m dynamic_ctx\u001b[38;5;241m.\u001b[39m\u001b[38;5;21m__enter__\u001b[39m()\n\u001b[0;32m    327\u001b[0m \u001b[38;5;28;01mtry\u001b[39;00m:\n\u001b[1;32m--> 328\u001b[0m     \u001b[38;5;28;01mreturn\u001b[39;00m fn(\u001b[38;5;241m*\u001b[39margs, \u001b[38;5;241m*\u001b[39m\u001b[38;5;241m*\u001b[39mkwargs)\n\u001b[0;32m    329\u001b[0m \u001b[38;5;28;01mfinally\u001b[39;00m:\n\u001b[0;32m    330\u001b[0m     set_eval_frame(prior)\n",
      "File \u001b[1;32mC:\\ProgramData\\Anaconda3\\lib\\site-packages\\torch\\optim\\optimizer.py:803\u001b[0m, in \u001b[0;36mOptimizer.zero_grad\u001b[1;34m(self, set_to_none)\u001b[0m\n\u001b[0;32m    800\u001b[0m \u001b[38;5;28;01melse\u001b[39;00m:\n\u001b[0;32m    801\u001b[0m     per_device_and_dtype_grads \u001b[38;5;241m=\u001b[39m \u001b[38;5;28;01mNone\u001b[39;00m\n\u001b[1;32m--> 803\u001b[0m \u001b[38;5;28;01mwith\u001b[39;00m torch\u001b[38;5;241m.\u001b[39mautograd\u001b[38;5;241m.\u001b[39mprofiler\u001b[38;5;241m.\u001b[39mrecord_function(\u001b[38;5;28mself\u001b[39m\u001b[38;5;241m.\u001b[39m_zero_grad_profile_name):\n\u001b[0;32m    804\u001b[0m     \u001b[38;5;28;01mfor\u001b[39;00m group \u001b[38;5;129;01min\u001b[39;00m \u001b[38;5;28mself\u001b[39m\u001b[38;5;241m.\u001b[39mparam_groups:\n\u001b[0;32m    805\u001b[0m         \u001b[38;5;28;01mfor\u001b[39;00m p \u001b[38;5;129;01min\u001b[39;00m group[\u001b[38;5;124m'\u001b[39m\u001b[38;5;124mparams\u001b[39m\u001b[38;5;124m'\u001b[39m]:\n",
      "File \u001b[1;32mC:\\ProgramData\\Anaconda3\\lib\\site-packages\\torch\\autograd\\profiler.py:631\u001b[0m, in \u001b[0;36mrecord_function.__enter__\u001b[1;34m(self)\u001b[0m\n\u001b[0;32m    630\u001b[0m \u001b[38;5;28;01mdef\u001b[39;00m \u001b[38;5;21m__enter__\u001b[39m(\u001b[38;5;28mself\u001b[39m):\n\u001b[1;32m--> 631\u001b[0m     \u001b[38;5;28mself\u001b[39m\u001b[38;5;241m.\u001b[39mrecord \u001b[38;5;241m=\u001b[39m \u001b[43mtorch\u001b[49m\u001b[38;5;241;43m.\u001b[39;49m\u001b[43mops\u001b[49m\u001b[38;5;241;43m.\u001b[39;49m\u001b[43mprofiler\u001b[49m\u001b[38;5;241;43m.\u001b[39;49m\u001b[43m_record_function_enter_new\u001b[49m\u001b[43m(\u001b[49m\n\u001b[0;32m    632\u001b[0m \u001b[43m        \u001b[49m\u001b[38;5;28;43mself\u001b[39;49m\u001b[38;5;241;43m.\u001b[39;49m\u001b[43mname\u001b[49m\u001b[43m,\u001b[49m\u001b[43m \u001b[49m\u001b[38;5;28;43mself\u001b[39;49m\u001b[38;5;241;43m.\u001b[39;49m\u001b[43margs\u001b[49m\n\u001b[0;32m    633\u001b[0m \u001b[43m    \u001b[49m\u001b[43m)\u001b[49m\n\u001b[0;32m    634\u001b[0m     \u001b[38;5;28;01mreturn\u001b[39;00m \u001b[38;5;28mself\u001b[39m\n",
      "File \u001b[1;32mC:\\ProgramData\\Anaconda3\\lib\\site-packages\\torch\\_ops.py:692\u001b[0m, in \u001b[0;36mOpOverloadPacket.__call__\u001b[1;34m(self, *args, **kwargs)\u001b[0m\n\u001b[0;32m    687\u001b[0m \u001b[38;5;28;01mdef\u001b[39;00m \u001b[38;5;21m__call__\u001b[39m(\u001b[38;5;28mself\u001b[39m, \u001b[38;5;241m*\u001b[39margs, \u001b[38;5;241m*\u001b[39m\u001b[38;5;241m*\u001b[39mkwargs):\n\u001b[0;32m    688\u001b[0m     \u001b[38;5;66;03m# overloading __call__ to ensure torch.ops.foo.bar()\u001b[39;00m\n\u001b[0;32m    689\u001b[0m     \u001b[38;5;66;03m# is still callable from JIT\u001b[39;00m\n\u001b[0;32m    690\u001b[0m     \u001b[38;5;66;03m# We save the function ptr as the `op` attribute on\u001b[39;00m\n\u001b[0;32m    691\u001b[0m     \u001b[38;5;66;03m# OpOverloadPacket to access it here.\u001b[39;00m\n\u001b[1;32m--> 692\u001b[0m     \u001b[38;5;28;01mreturn\u001b[39;00m \u001b[38;5;28mself\u001b[39m\u001b[38;5;241m.\u001b[39m_op(\u001b[38;5;241m*\u001b[39margs, \u001b[38;5;241m*\u001b[39m\u001b[38;5;241m*\u001b[39mkwargs \u001b[38;5;129;01mor\u001b[39;00m {})\n",
      "\u001b[1;31mKeyboardInterrupt\u001b[0m: "
     ]
    }
   ],
   "source": [
    "env = gym.make(\"MountainCarContinuous-v0\", max_episode_steps = 1900)\n",
    "γ = 0.99\n",
    "\n",
    "opt1 = Adam(network.parameters(), 0.00001)\n",
    "opt2 = Adam(state_value.parameters(), 0.0001)\n",
    "\n",
    "\n",
    "\n",
    "\n",
    "num_iters = tqdm(range(500))\n",
    "\n",
    "for i in num_iters:\n",
    "    last_state, info = env.reset()\n",
    "    I = 1\n",
    "    cum_reward = 0\n",
    "    cum_delta = 0\n",
    "    for c in range(1900):\n",
    "        \n",
    "        action = choose_action(last_state, network)  # agent policy that uses the observation and info\n",
    "        current_state, reward, terminated, truncated, info = env.step(action)\n",
    "        \n",
    "        cum_reward = (0.9)*cum_reward+(0.1)*(reward)\n",
    "        \n",
    "        network.train()\n",
    "        state_value.train()\n",
    "        with torch.no_grad():\n",
    "\n",
    "            if terminated or truncated:\n",
    "                δ = reward - state_value(torch.tensor(last_state))\n",
    "            else:\n",
    "                δ = reward + γ*state_value(torch.tensor(current_state)) - state_value(torch.tensor(last_state))\n",
    "       \n",
    "        opt1.zero_grad()\n",
    "        opt2.zero_grad()\n",
    "        \n",
    "        cum_reward = (0.9)*cum_reward+(0.1)*(reward)\n",
    "        cum_delta = (0.9)*cum_delta+(0.1)*(δ)\n",
    "        \n",
    "        \n",
    "        z = -δ*state_value(torch.tensor(last_state))\n",
    "        z.backward()\n",
    "        μ, σ = network(torch.tensor(last_state))\n",
    "        z_ = -δ*I*(-0.5*((torch.tensor(action) - μ)/σ)**2-torch.log(σ))\n",
    "        z_.backward()\n",
    "\n",
    "        opt1.step()\n",
    "        opt2.step()\n",
    "        \n",
    "        \n",
    "        \"\"\" \n",
    "       Old school update\n",
    "        with torch.no_grad():\n",
    "            for param in state_value.parameters():\n",
    "                param /= torch.linalg.norm(param)\n",
    "                param += α*δ*param.grad\n",
    "        \n",
    "            for param in network.parameters():\n",
    "                param /= torch.linalg.norm(param)\n",
    "                param += α*δ*I*param.grad\n",
    "        \"\"\"   \n",
    "        I = γ*I\n",
    "        if terminated or truncated:\n",
    "            break\n",
    "        else:\n",
    "            last_state = current_state\n",
    "        \n",
    "    num_iters.set_description(f\"{cum_reward, cum_delta.item()}\")\n",
    "env.close()\n",
    "#update_params(network, state_value,states, actions, rewards)"
   ]
  },
  {
   "cell_type": "code",
   "execution_count": 9,
   "id": "cccd797b",
   "metadata": {},
   "outputs": [
    {
     "name": "stdout",
     "output_type": "stream",
     "text": [
      "1899\n"
     ]
    }
   ],
   "source": [
    "env = gym.make(\"MountainCarContinuous-v0\", max_episode_steps = 1900, render_mode = \"human\")\n",
    "state, info = env.reset()\n",
    "\n",
    "for c in range(1900):\n",
    "    network.eval()\n",
    "    action = choose_action(state, network)  # agent policy that uses the observation and info\n",
    "    state, reward, terminated, truncated, info = env.step(action)\n",
    "    if terminated or truncated:\n",
    "        state, info = env.reset()\n",
    "        print(c)\n",
    "        break\n",
    "    \n",
    "env.close()"
   ]
  },
  {
   "cell_type": "code",
   "execution_count": null,
   "id": "9776c6cd",
   "metadata": {},
   "outputs": [],
   "source": [
    "action"
   ]
  }
 ],
 "metadata": {
  "kernelspec": {
   "display_name": "Python 3 (ipykernel)",
   "language": "python",
   "name": "python3"
  },
  "language_info": {
   "codemirror_mode": {
    "name": "ipython",
    "version": 3
   },
   "file_extension": ".py",
   "mimetype": "text/x-python",
   "name": "python",
   "nbconvert_exporter": "python",
   "pygments_lexer": "ipython3",
   "version": "3.10.12"
  }
 },
 "nbformat": 4,
 "nbformat_minor": 5
}
