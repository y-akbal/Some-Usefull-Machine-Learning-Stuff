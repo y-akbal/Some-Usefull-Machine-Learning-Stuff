{
 "cells": [
  {
   "cell_type": "code",
   "execution_count": 62,
   "id": "36ef42a2",
   "metadata": {},
   "outputs": [],
   "source": [
    "import gymnasium as gym\n",
    "import numpy as np\n",
    "import torch\n",
    "from torch import nn as nn\n",
    "from torch.nn import functional as F\n",
    "from torch.utils.data import DataLoader\n",
    "from torch.distributions import Categorical\n",
    "from tqdm import tqdm\n",
    "from torch.optim import Adam"
   ]
  },
  {
   "cell_type": "code",
   "execution_count": 63,
   "id": "48ea48e3",
   "metadata": {},
   "outputs": [],
   "source": [
    "network = nn.Sequential(*[nn.Linear(2, 30), \n",
    "                          nn.SELU(),\n",
    "                          nn.Linear(30, 3),\n",
    "                          nn.Softmax(-1),\n",
    "                         ]); ### This dude is the policy function\n",
    "state_value = nn.Sequential(*[nn.Linear(2, 30), \n",
    "                          nn.SELU(),\n",
    "                          nn.Linear(30, 30),\n",
    "                          nn.SELU(),\n",
    "                          nn.Linear(30, 1)\n",
    "                             ]) ### This dude is the state value"
   ]
  },
  {
   "cell_type": "code",
   "execution_count": 64,
   "id": "1a1e55d3",
   "metadata": {},
   "outputs": [],
   "source": [
    "@torch.no_grad\n",
    "def choose_action(state:np.ndarray, network:nn.Module = network)->int:\n",
    "    probs = network(torch.tensor(state))\n",
    "    probs = Categorical(probs).sample()\n",
    "    return probs.item()"
   ]
  },
  {
   "cell_type": "code",
   "execution_count": null,
   "id": "9882359b",
   "metadata": {
    "scrolled": true
   },
   "outputs": [
    {
     "name": "stderr",
     "output_type": "stream",
     "text": [
      " 28%|██████████████████████▉                                                           | 14/50 [00:47<02:05,  3.49s/it]"
     ]
    }
   ],
   "source": [
    "env = gym.make(\"MountainCar-v0\", max_episode_steps = 2000)\n",
    "\n",
    "γ = 0.98\n",
    "\n",
    "opt1 = Adam(network.parameters(), 0.00001)\n",
    "opt2 = Adam(state_value.parameters(), 0.00001)\n",
    "\n",
    "num_iters = tqdm(range(50))\n",
    "\n",
    "for i in num_iters:\n",
    "    \n",
    "    last_step, info = env.reset()\n",
    "    ### This dude is kind a replay buffer!!!\n",
    "    for c in range(2000):\n",
    "        action = choose_action(last_step, network)  # agent policy that uses the observation and info\n",
    "        current_state, reward, terminated, truncated, info = env.step(action)\n",
    "    \n",
    "        with torch.no_grad():\n",
    "            δ = reward + γ*(1-1*terminated)*state_value(torch.tensor(current_state)) - state_value(torch.tensor(last_state))\n",
    "        \n",
    "        opt1.zero_grad()\n",
    "        opt2.zero_grad()\n",
    "        \n",
    "        z = -δ*state_value(torch.tensor(last_state))\n",
    "        z.backward()\n",
    "        z_ = -((δ*(network(torch.tensor(last_state))[action])).log()).squeeze()\n",
    "        z_.backward()\n",
    "\n",
    "        opt1.step()\n",
    "        opt2.step()\n",
    "        \n",
    "        last_state = current_state\n",
    "    \n",
    "env.close()\n",
    "    #update_params(network, state_value,states, actions, rewards)"
   ]
  },
  {
   "cell_type": "code",
   "execution_count": 1,
   "id": "cccd797b",
   "metadata": {},
   "outputs": [
    {
     "ename": "NameError",
     "evalue": "name 'gym' is not defined",
     "output_type": "error",
     "traceback": [
      "\u001b[1;31m---------------------------------------------------------------------------\u001b[0m",
      "\u001b[1;31mNameError\u001b[0m                                 Traceback (most recent call last)",
      "Cell \u001b[1;32mIn[1], line 1\u001b[0m\n\u001b[1;32m----> 1\u001b[0m env \u001b[38;5;241m=\u001b[39m \u001b[43mgym\u001b[49m\u001b[38;5;241m.\u001b[39mmake(\u001b[38;5;124m\"\u001b[39m\u001b[38;5;124mMountainCar-v0\u001b[39m\u001b[38;5;124m\"\u001b[39m, max_episode_steps \u001b[38;5;241m=\u001b[39m \u001b[38;5;241m300\u001b[39m, render_mode \u001b[38;5;241m=\u001b[39m \u001b[38;5;124m\"\u001b[39m\u001b[38;5;124mhuman\u001b[39m\u001b[38;5;124m\"\u001b[39m)\n\u001b[0;32m      2\u001b[0m state, info \u001b[38;5;241m=\u001b[39m env\u001b[38;5;241m.\u001b[39mreset()\n\u001b[0;32m      4\u001b[0m \u001b[38;5;28;01mfor\u001b[39;00m c \u001b[38;5;129;01min\u001b[39;00m \u001b[38;5;28mrange\u001b[39m(\u001b[38;5;241m300\u001b[39m):\n",
      "\u001b[1;31mNameError\u001b[0m: name 'gym' is not defined"
     ]
    }
   ],
   "source": [
    "env = gym.make(\"MountainCar-v0\", max_episode_steps = 300, render_mode = \"human\")\n",
    "state, info = env.reset()\n",
    "\n",
    "for c in range(300):\n",
    "    network.eval()\n",
    "    action = choose_action(state, network)  # agent policy that uses the observation and info\n",
    "    state, reward, terminated, truncated, info = env.step(action)\n",
    "    if terminated or truncated:\n",
    "        state, info = env.reset()\n",
    "        print(c)\n",
    "        break\n",
    "    \n",
    "env.close()"
   ]
  }
 ],
 "metadata": {
  "kernelspec": {
   "display_name": "Python 3 (ipykernel)",
   "language": "python",
   "name": "python3"
  },
  "language_info": {
   "codemirror_mode": {
    "name": "ipython",
    "version": 3
   },
   "file_extension": ".py",
   "mimetype": "text/x-python",
   "name": "python",
   "nbconvert_exporter": "python",
   "pygments_lexer": "ipython3",
   "version": "3.10.12"
  }
 },
 "nbformat": 4,
 "nbformat_minor": 5
}
