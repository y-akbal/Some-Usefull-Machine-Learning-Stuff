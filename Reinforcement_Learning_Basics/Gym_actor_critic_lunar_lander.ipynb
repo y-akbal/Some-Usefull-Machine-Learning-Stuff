{
 "cells": [
  {
   "cell_type": "code",
   "execution_count": 22,
   "id": "36ef42a2",
   "metadata": {},
   "outputs": [],
   "source": [
    "import gymnasium as gym\n",
    "import numpy as np\n",
    "import torch\n",
    "from torch import nn as nn\n",
    "from torch.nn import functional as F\n",
    "from torch.utils.data import DataLoader\n",
    "from torch.distributions import Categorical\n",
    "from tqdm import tqdm\n",
    "from torch.optim import Adam"
   ]
  },
  {
   "cell_type": "code",
   "execution_count": 58,
   "id": "48ea48e3",
   "metadata": {},
   "outputs": [],
   "source": [
    "network = nn.Sequential(*[nn.Linear(8, 30), \n",
    "                          nn.ReLU(),\n",
    "                          nn.Linear(30, 40),\n",
    "                          nn.ReLU(),\n",
    "                          nn.Linear(40, 4),\n",
    "                          nn.Softmax(-1),\n",
    "                         ]); ### This dude is the policy function\n",
    "state_value = nn.Sequential(*[nn.Linear(8, 40), \n",
    "                          nn.GELU(),\n",
    "                          nn.Linear(40, 30),\n",
    "                          nn.GELU(),\n",
    "                          nn.Linear(30, 1)\n",
    "                             ]) ### This dude is the state value"
   ]
  },
  {
   "cell_type": "code",
   "execution_count": 59,
   "id": "1a1e55d3",
   "metadata": {},
   "outputs": [],
   "source": [
    "@torch.no_grad\n",
    "def choose_action(state:np.ndarray, network:nn.Module = network)->int:\n",
    "    probs = network(torch.tensor(state))\n",
    "    probs = Categorical(probs).sample()\n",
    "    return probs.item()"
   ]
  },
  {
   "cell_type": "code",
   "execution_count": 2,
   "id": "9882359b",
   "metadata": {
    "scrolled": true
   },
   "outputs": [
    {
     "ename": "NameError",
     "evalue": "name 'gym' is not defined",
     "output_type": "error",
     "traceback": [
      "\u001b[1;31m---------------------------------------------------------------------------\u001b[0m",
      "\u001b[1;31mNameError\u001b[0m                                 Traceback (most recent call last)",
      "Cell \u001b[1;32mIn[2], line 1\u001b[0m\n\u001b[1;32m----> 1\u001b[0m env \u001b[38;5;241m=\u001b[39m \u001b[43mgym\u001b[49m\u001b[38;5;241m.\u001b[39mmake(\u001b[38;5;124m\"\u001b[39m\u001b[38;5;124mLunarLander-v2\u001b[39m\u001b[38;5;124m\"\u001b[39m, \n\u001b[0;32m      2\u001b[0m                gravity \u001b[38;5;241m=\u001b[39m \u001b[38;5;241m-\u001b[39m\u001b[38;5;241m10.0\u001b[39m,\n\u001b[0;32m      3\u001b[0m                enable_wind \u001b[38;5;241m=\u001b[39m \u001b[38;5;28;01mTrue\u001b[39;00m,\n\u001b[0;32m      4\u001b[0m     wind_power \u001b[38;5;241m=\u001b[39m \u001b[38;5;241m2.0\u001b[39m)\n\u001b[0;32m      5\u001b[0m γ \u001b[38;5;241m=\u001b[39m \u001b[38;5;241m0.99\u001b[39m\n\u001b[0;32m      7\u001b[0m opt1 \u001b[38;5;241m=\u001b[39m Adam(network\u001b[38;5;241m.\u001b[39mparameters(), \u001b[38;5;241m0.0001\u001b[39m)\n",
      "\u001b[1;31mNameError\u001b[0m: name 'gym' is not defined"
     ]
    }
   ],
   "source": [
    "env = gym.make(\"LunarLander-v2\", \n",
    "               gravity = -10.0,\n",
    "               enable_wind = True,\n",
    "    wind_power = 2.0)\n",
    "γ = 0.99\n",
    "\n",
    "opt1 = Adam(network.parameters(), 0.0001)\n",
    "opt2 = Adam(state_value.parameters(), 0.001)\n",
    "\n",
    "num_iters = tqdm(range(1500))\n",
    "\n",
    "for i in num_iters:\n",
    "    last_state, info = env.reset()\n",
    "    I = 1\n",
    "    cum_reward = 0\n",
    "    cum_delta = 0\n",
    "    for c in range(4000):\n",
    "        \n",
    "        action = choose_action(last_state, network)  # agent policy that uses the observation and info\n",
    "        current_state, reward, terminated, truncated, info = env.step(action)\n",
    "        \n",
    "\n",
    "        network.train()\n",
    "        state_value.train()\n",
    "        with torch.no_grad():\n",
    "\n",
    "            if terminated or truncated:\n",
    "                δ = reward - state_value(torch.tensor(last_state))\n",
    "            else:\n",
    "                δ = reward + γ*state_value(torch.tensor(current_state)) - state_value(torch.tensor(last_state))\n",
    "#Kalpazanlar andreaj jeet               \n",
    "        cum_reward = (0.9)*cum_reward+(0.1)*(reward)\n",
    "        cum_delta = (0.9)*cum_delta+(0.1)*(δ)\n",
    "                \n",
    "        opt1.zero_grad()\n",
    "        opt2.zero_grad()\n",
    "        \n",
    "        \n",
    "        z = -δ*state_value(torch.tensor(last_state))\n",
    "        z.backward()\n",
    "        z_ = -δ*I*network(torch.tensor(last_state)).squeeze()[action].log()\n",
    "        z_.backward()\n",
    "\n",
    "        opt1.step()\n",
    "        opt2.step()\n",
    "        \n",
    "        \n",
    "        \"\"\" \n",
    "       Old school update\n",
    "        with torch.no_grad():\n",
    "            for param in state_value.parameters():\n",
    "                param /= torch.linalg.norm(param)\n",
    "                param += α*δ*param.grad\n",
    "        \n",
    "            for param in network.parameters():\n",
    "                param /= torch.linalg.norm(param)\n",
    "                param += α*δ*I*param.grad\n",
    "        \"\"\"   \n",
    "        I = γ*I\n",
    "        \n",
    "        if terminated or truncated:\n",
    "            break\n",
    "        else:\n",
    "            last_state = current_state\n",
    "    #\n",
    "    \n",
    "    num_iters.set_description(f\"{cum_reward, cum_delta.item()}\")\n",
    "    \n",
    "env.close()       \n",
    "    #update_params(network, state_value,states, actions, rewards)\n",
    "    #update_params(network, state_value,states, actions, rewards)"
   ]
  },
  {
   "cell_type": "code",
   "execution_count": 63,
   "id": "cccd797b",
   "metadata": {},
   "outputs": [],
   "source": [
    "env = gym.make(\"LunarLander-v2\", \n",
    "               max_episode_steps = 700,  \n",
    "               gravity = -10.0,\n",
    "               enable_wind = False,\n",
    "               wind_power =1.0,\n",
    "               render_mode = \"human\"\n",
    "              )\n",
    "\n",
    "state, info = env.reset()\n",
    "γ = 0.99\n",
    "\n",
    "for c in range(700):\n",
    "    network.eval()\n",
    "    action = choose_action(state, network)  # agent policy that uses the observation and info\n",
    "    state, reward, terminated, truncated, info = env.step(action)\n",
    "    if terminated or truncated:\n",
    "        state, info = env.reset()\n",
    "        break\n",
    "env.close()"
   ]
  },
  {
   "cell_type": "code",
   "execution_count": null,
   "id": "c72567e6",
   "metadata": {},
   "outputs": [],
   "source": [
    "TT"
   ]
  }
 ],
 "metadata": {
  "kernelspec": {
   "display_name": "Python 3 (ipykernel)",
   "language": "python",
   "name": "python3"
  },
  "language_info": {
   "codemirror_mode": {
    "name": "ipython",
    "version": 3
   },
   "file_extension": ".py",
   "mimetype": "text/x-python",
   "name": "python",
   "nbconvert_exporter": "python",
   "pygments_lexer": "ipython3",
   "version": "3.10.12"
  }
 },
 "nbformat": 4,
 "nbformat_minor": 5
}
