{
 "cells": [
  {
   "cell_type": "code",
   "execution_count": 91,
   "id": "52352ec9",
   "metadata": {},
   "outputs": [],
   "source": [
    "import torch\n",
    "from torch import nn as nn\n",
    "import torchvision\n",
    "from torch.utils.data import DataLoader, dataset\n",
    "from torchvision.transforms import AutoAugment, Normalize, Compose, ToTensor\n",
    "import torch.nn.functional as F\n",
    "from torchmetrics import Accuracy"
   ]
  },
  {
   "cell_type": "code",
   "execution_count": 131,
   "id": "82b316e0",
   "metadata": {},
   "outputs": [],
   "source": [
    "class accuracy:\n",
    "    def __init__(self):\n",
    "        pass\n",
    "    def update(self, x,y):\n",
    "        pass\n",
    "    def reset(self):\n",
    "        pass"
   ]
  },
  {
   "cell_type": "code",
   "execution_count": 8,
   "id": "f138eb8f",
   "metadata": {},
   "outputs": [],
   "source": [
    "def __normalize__(x):\n",
    "    return x/255.\n",
    "normalize = torch.jit.script(__normalize__)"
   ]
  },
  {
   "cell_type": "code",
   "execution_count": 2,
   "id": "b9137adc",
   "metadata": {},
   "outputs": [],
   "source": [
    "from torchvision.datasets import CIFAR100"
   ]
  },
  {
   "cell_type": "code",
   "execution_count": 34,
   "id": "2eb6ae60",
   "metadata": {},
   "outputs": [
    {
     "name": "stdout",
     "output_type": "stream",
     "text": [
      "Files already downloaded and verified\n",
      "Files already downloaded and verified\n"
     ]
    }
   ],
   "source": [
    "data = CIFAR100(\"./data\", train = True, download = True, transform = Compose([AutoAugment(),ToTensor(), normalize]))\n",
    "test_data = CIFAR100(\"./data\", train = False, download = True, transform = Compose([AutoAugment(),ToTensor(),  normalize]))"
   ]
  },
  {
   "cell_type": "code",
   "execution_count": 155,
   "id": "0937875a",
   "metadata": {},
   "outputs": [],
   "source": [
    "train_set = DataLoader(data, 128, shuffle = True, num_workers=2)\n",
    "test_set = DataLoader(test_data, 128, shuffle = False, num_workers=2)"
   ]
  },
  {
   "cell_type": "code",
   "execution_count": 156,
   "id": "3cb4fd5c",
   "metadata": {},
   "outputs": [],
   "source": [
    "class VGG5(nn.Module):\n",
    "    def __init__(self):\n",
    "        super().__init__()\n",
    "        self.seq_1 = nn.Sequential(nn.Conv2d(3, 64, 2,1, ), nn.ReLU(),\n",
    "                                   nn.Conv2d(64, 64, 2,1), nn.ReLU(), \n",
    "                                   nn.MaxPool2d(2,2), \n",
    "                                   nn.BatchNorm2d(64))\n",
    "        self.seq_2 = nn.Sequential(nn.Conv2d(64, 128, 2,1, padding = \"same\"), nn.ReLU(),\n",
    "                                   nn.Conv2d(128, 128, 2,1, padding = \"same\"), nn.ReLU(), \n",
    "                                   nn.MaxPool2d(2,2), \n",
    "                                   nn.BatchNorm2d(128))\n",
    "        self.seq_3 = nn.Sequential(nn.Conv2d(128, 256, 2,1), nn.ReLU(),\n",
    "                                   nn.Conv2d(256, 256, 2,1), nn.ReLU(), \n",
    "                                   nn.MaxPool2d(2,2), \n",
    "                                   nn.BatchNorm2d(256, ))\n",
    "        self.f = nn.Flatten()\n",
    "        self.dense = nn.Sequential(nn.Dropout(0.5), nn.Linear(1024, 512), nn.ReLU(), nn.Linear(512, 100))\n",
    "    def forward(self, x):\n",
    "        x = self.seq_1(x)\n",
    "        x = self.seq_2(x)\n",
    "        x = self.seq_3(x)\n",
    "        x = self.f(x)\n",
    "        x = self.dense(x)\n",
    "        return x\n",
    "        \n",
    "        \n",
    "        "
   ]
  },
  {
   "cell_type": "code",
   "execution_count": 157,
   "id": "24a1eaef",
   "metadata": {},
   "outputs": [],
   "source": [
    "model_ = VGG5()\n",
    "model = torch.nn.DataParallel(model_)\n",
    "model.to(0)\n",
    "optimizer = torch.optim.Adam(model.parameters(), lr = 0.00001)"
   ]
  },
  {
   "cell_type": "code",
   "execution_count": 158,
   "id": "2e1da40a",
   "metadata": {},
   "outputs": [],
   "source": [
    "def loss(x,y):\n",
    "    return nn.CrossEntropyLoss()(model(x),y)"
   ]
  },
  {
   "cell_type": "code",
   "execution_count": null,
   "id": "80205648",
   "metadata": {},
   "outputs": [
    {
     "name": "stdout",
     "output_type": "stream",
     "text": [
      "4.641017436981201\n",
      "8.65625\n",
      "4.510244369506836\n",
      "13.15625\n",
      "4.569127559661865\n",
      "16.1875\n",
      "4.396658897399902\n",
      "19.78125\n",
      "4.3354034423828125\n",
      "22.75\n",
      "4.324543476104736\n"
     ]
    }
   ],
   "source": [
    "model.train()\n",
    "while True:\n",
    "    L = []\n",
    "    for i, batch in enumerate(train_set):\n",
    "        x, y = batch[0].cuda(), batch[1].cuda()\n",
    "    \n",
    "        loss_ = loss(x,y)\n",
    "        loss_.backward()\n",
    "        optimizer.step()\n",
    "        optimizer.zero_grad()\n",
    "        if i % 1000 == 0:\n",
    "            print(loss_.item())\n",
    "    for i, batch in enumerate(test_set):\n",
    "        x, y = batch[0].cuda(), batch[1].cuda()\n",
    "        L.append(sum(torch.argmax(model(x), dim = 1) == y).item())\n",
    "    print(sum(L)/32)"
   ]
  },
  {
   "cell_type": "code",
   "execution_count": 130,
   "id": "7a017066",
   "metadata": {},
   "outputs": [],
   "source": []
  },
  {
   "cell_type": "code",
   "execution_count": null,
   "id": "e919c5c3",
   "metadata": {},
   "outputs": [],
   "source": []
  }
 ],
 "metadata": {
  "kernelspec": {
   "display_name": "Python 3 (ipykernel)",
   "language": "python",
   "name": "python3"
  },
  "language_info": {
   "codemirror_mode": {
    "name": "ipython",
    "version": 3
   },
   "file_extension": ".py",
   "mimetype": "text/x-python",
   "name": "python",
   "nbconvert_exporter": "python",
   "pygments_lexer": "ipython3",
   "version": "3.9.7"
  }
 },
 "nbformat": 4,
 "nbformat_minor": 5
}
